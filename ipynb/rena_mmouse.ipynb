{
 "cells": [
  {
   "cell_type": "code",
   "execution_count": 1,
   "metadata": {},
   "outputs": [],
   "source": [
    "import numpy as np\n",
    "import pandas as pd\n",
    "from biom import load_table\n",
    "from gneiss.util import match\n",
    "from tenatch.tensor_factorization import TenAls\n",
    "from skbio import  OrdinationResults, stats\n",
    "from deicode.optspace import OptSpace\n",
    "from deicode.preprocessing import rclr\n",
    "from IPython.core.display import HTML\n",
    "pd.options.mode.chained_assignment = None  # default='warn'\n",
    "\n",
    "\n",
    "#plotting\n",
    "import seaborn as sns\n",
    "import matplotlib.pyplot as plt\n",
    "import matplotlib.colors as colors\n",
    "import matplotlib.gridspec as gridspec\n",
    "from matplotlib import ticker\n",
    "plt.style.use('ggplot')\n",
    "sns.set_style('whitegrid')\n",
    "plt.rcParams['xtick.labelsize']=20\n",
    "plt.rcParams['ytick.labelsize']=20\n",
    "%matplotlib inline \n",
    "\n",
    "def plot_pcoa(x, y, samples, md, ax, factor_, colors_map=['#1f78b4','#e31a1c']):\n",
    "    \"\"\" \n",
    "    Parameters\n",
    "    ----------\n",
    "    samples : pd.DataFrame\n",
    "        Contains PCoA coordinates\n",
    "    md : pd.Dataframe\n",
    "        Metadata object\n",
    "    ax : matplotlib.Axes\n",
    "        Contains matplotlib axes object\n",
    "    \"\"\"\n",
    "    classes=np.sort(list(set(md[factor_].values)))\n",
    "    cmap_out={}\n",
    "    for sub_class,color_ in zip(classes,colors_map):\n",
    "        idx = md[factor_] == sub_class        \n",
    "        ax.scatter(samples.loc[idx, x],\n",
    "           samples.loc[idx, y], \n",
    "           label=sub_class,\n",
    "           facecolors=color_,\n",
    "           edgecolors=color_,\n",
    "           alpha=.8,linewidth=3)        \n",
    "        cmap_out[sub_class]=color_\n",
    "    ax.grid()\n",
    "    ax.spines['right'].set_visible(False)\n",
    "    ax.spines['top'].set_visible(False)\n",
    "    ax.set_xticks([])\n",
    "    ax.set_yticks([])\n",
    "    ax.set_xlabel('PC1',fontsize=15)\n",
    "    ax.set_ylabel('PC2',fontsize=15)\n",
    "    \n",
    "    return ax\n",
    "\n",
    "class MidpointNormalize(colors.Normalize):\n",
    "    def __init__(self, vmin=None, vmax=None, midpoint=None, clip=False):\n",
    "        self.midpoint = midpoint\n",
    "        colors.Normalize.__init__(self, vmin, vmax, clip)\n",
    "\n",
    "    def __call__(self, value, clip=None):\n",
    "        x, y = [self.vmin, self.midpoint, self.vmax], [0, 0.5, 1]\n",
    "        return np.ma.masked_array(np.interp(value, x, y))\n"
   ]
  },
  {
   "cell_type": "code",
   "execution_count": 2,
   "metadata": {},
   "outputs": [
    {
     "data": {
      "text/html": [
       "<div>\n",
       "<style scoped>\n",
       "    .dataframe tbody tr th:only-of-type {\n",
       "        vertical-align: middle;\n",
       "    }\n",
       "\n",
       "    .dataframe tbody tr th {\n",
       "        vertical-align: top;\n",
       "    }\n",
       "\n",
       "    .dataframe thead th {\n",
       "        text-align: right;\n",
       "    }\n",
       "</style>\n",
       "<table border=\"1\" class=\"dataframe\">\n",
       "  <thead>\n",
       "    <tr style=\"text-align: right;\">\n",
       "      <th></th>\n",
       "      <th>sOTU0</th>\n",
       "      <th>sOTU1</th>\n",
       "      <th>sOTU2</th>\n",
       "      <th>sOTU3</th>\n",
       "      <th>sOTU4</th>\n",
       "      <th>sOTU5</th>\n",
       "      <th>sOTU6</th>\n",
       "      <th>sOTU7</th>\n",
       "      <th>sOTU8</th>\n",
       "      <th>sOTU9</th>\n",
       "      <th>...</th>\n",
       "      <th>sOTU4690</th>\n",
       "      <th>sOTU4691</th>\n",
       "      <th>sOTU4692</th>\n",
       "      <th>sOTU4693</th>\n",
       "      <th>sOTU4694</th>\n",
       "      <th>sOTU4695</th>\n",
       "      <th>sOTU4696</th>\n",
       "      <th>sOTU4697</th>\n",
       "      <th>sOTU4698</th>\n",
       "      <th>sOTU4699</th>\n",
       "    </tr>\n",
       "  </thead>\n",
       "  <tbody>\n",
       "    <tr>\n",
       "      <th>10537.p4a11.273.mar22</th>\n",
       "      <td>1189.0</td>\n",
       "      <td>0.0</td>\n",
       "      <td>22.0</td>\n",
       "      <td>0.0</td>\n",
       "      <td>0.0</td>\n",
       "      <td>0.0</td>\n",
       "      <td>0.0</td>\n",
       "      <td>0.0</td>\n",
       "      <td>0.0</td>\n",
       "      <td>0.0</td>\n",
       "      <td>...</td>\n",
       "      <td>0.0</td>\n",
       "      <td>0.0</td>\n",
       "      <td>0.0</td>\n",
       "      <td>0.0</td>\n",
       "      <td>0.0</td>\n",
       "      <td>0.0</td>\n",
       "      <td>0.0</td>\n",
       "      <td>0.0</td>\n",
       "      <td>0.0</td>\n",
       "      <td>0.0</td>\n",
       "    </tr>\n",
       "    <tr>\n",
       "      <th>10537.p7c3.39days.meth</th>\n",
       "      <td>805.0</td>\n",
       "      <td>0.0</td>\n",
       "      <td>29.0</td>\n",
       "      <td>0.0</td>\n",
       "      <td>0.0</td>\n",
       "      <td>0.0</td>\n",
       "      <td>0.0</td>\n",
       "      <td>0.0</td>\n",
       "      <td>0.0</td>\n",
       "      <td>0.0</td>\n",
       "      <td>...</td>\n",
       "      <td>0.0</td>\n",
       "      <td>0.0</td>\n",
       "      <td>0.0</td>\n",
       "      <td>0.0</td>\n",
       "      <td>0.0</td>\n",
       "      <td>0.0</td>\n",
       "      <td>0.0</td>\n",
       "      <td>0.0</td>\n",
       "      <td>0.0</td>\n",
       "      <td>0.0</td>\n",
       "    </tr>\n",
       "    <tr>\n",
       "      <th>10537.p6e10.33days.meth</th>\n",
       "      <td>482.0</td>\n",
       "      <td>0.0</td>\n",
       "      <td>11.0</td>\n",
       "      <td>0.0</td>\n",
       "      <td>0.0</td>\n",
       "      <td>0.0</td>\n",
       "      <td>0.0</td>\n",
       "      <td>0.0</td>\n",
       "      <td>0.0</td>\n",
       "      <td>0.0</td>\n",
       "      <td>...</td>\n",
       "      <td>0.0</td>\n",
       "      <td>0.0</td>\n",
       "      <td>0.0</td>\n",
       "      <td>0.0</td>\n",
       "      <td>0.0</td>\n",
       "      <td>0.0</td>\n",
       "      <td>0.0</td>\n",
       "      <td>0.0</td>\n",
       "      <td>0.0</td>\n",
       "      <td>0.0</td>\n",
       "    </tr>\n",
       "    <tr>\n",
       "      <th>10537.p1e2.272.feb11</th>\n",
       "      <td>89.0</td>\n",
       "      <td>0.0</td>\n",
       "      <td>0.0</td>\n",
       "      <td>0.0</td>\n",
       "      <td>0.0</td>\n",
       "      <td>0.0</td>\n",
       "      <td>0.0</td>\n",
       "      <td>0.0</td>\n",
       "      <td>0.0</td>\n",
       "      <td>0.0</td>\n",
       "      <td>...</td>\n",
       "      <td>0.0</td>\n",
       "      <td>0.0</td>\n",
       "      <td>0.0</td>\n",
       "      <td>0.0</td>\n",
       "      <td>0.0</td>\n",
       "      <td>0.0</td>\n",
       "      <td>0.0</td>\n",
       "      <td>0.0</td>\n",
       "      <td>0.0</td>\n",
       "      <td>0.0</td>\n",
       "    </tr>\n",
       "    <tr>\n",
       "      <th>10537.p3a4.275.mar6</th>\n",
       "      <td>9017.0</td>\n",
       "      <td>0.0</td>\n",
       "      <td>0.0</td>\n",
       "      <td>0.0</td>\n",
       "      <td>0.0</td>\n",
       "      <td>0.0</td>\n",
       "      <td>0.0</td>\n",
       "      <td>0.0</td>\n",
       "      <td>0.0</td>\n",
       "      <td>0.0</td>\n",
       "      <td>...</td>\n",
       "      <td>0.0</td>\n",
       "      <td>0.0</td>\n",
       "      <td>0.0</td>\n",
       "      <td>0.0</td>\n",
       "      <td>0.0</td>\n",
       "      <td>0.0</td>\n",
       "      <td>0.0</td>\n",
       "      <td>0.0</td>\n",
       "      <td>0.0</td>\n",
       "      <td>0.0</td>\n",
       "    </tr>\n",
       "  </tbody>\n",
       "</table>\n",
       "<p>5 rows × 4700 columns</p>\n",
       "</div>"
      ],
      "text/plain": [
       "                          sOTU0  sOTU1  sOTU2  sOTU3  sOTU4  sOTU5  sOTU6  \\\n",
       "10537.p4a11.273.mar22    1189.0    0.0   22.0    0.0    0.0    0.0    0.0   \n",
       "10537.p7c3.39days.meth    805.0    0.0   29.0    0.0    0.0    0.0    0.0   \n",
       "10537.p6e10.33days.meth   482.0    0.0   11.0    0.0    0.0    0.0    0.0   \n",
       "10537.p1e2.272.feb11       89.0    0.0    0.0    0.0    0.0    0.0    0.0   \n",
       "10537.p3a4.275.mar6      9017.0    0.0    0.0    0.0    0.0    0.0    0.0   \n",
       "\n",
       "                         sOTU7  sOTU8  sOTU9    ...     sOTU4690  sOTU4691  \\\n",
       "10537.p4a11.273.mar22      0.0    0.0    0.0    ...          0.0       0.0   \n",
       "10537.p7c3.39days.meth     0.0    0.0    0.0    ...          0.0       0.0   \n",
       "10537.p6e10.33days.meth    0.0    0.0    0.0    ...          0.0       0.0   \n",
       "10537.p1e2.272.feb11       0.0    0.0    0.0    ...          0.0       0.0   \n",
       "10537.p3a4.275.mar6        0.0    0.0    0.0    ...          0.0       0.0   \n",
       "\n",
       "                         sOTU4692  sOTU4693  sOTU4694  sOTU4695  sOTU4696  \\\n",
       "10537.p4a11.273.mar22         0.0       0.0       0.0       0.0       0.0   \n",
       "10537.p7c3.39days.meth        0.0       0.0       0.0       0.0       0.0   \n",
       "10537.p6e10.33days.meth       0.0       0.0       0.0       0.0       0.0   \n",
       "10537.p1e2.272.feb11          0.0       0.0       0.0       0.0       0.0   \n",
       "10537.p3a4.275.mar6           0.0       0.0       0.0       0.0       0.0   \n",
       "\n",
       "                         sOTU4697  sOTU4698  sOTU4699  \n",
       "10537.p4a11.273.mar22         0.0       0.0       0.0  \n",
       "10537.p7c3.39days.meth        0.0       0.0       0.0  \n",
       "10537.p6e10.33days.meth       0.0       0.0       0.0  \n",
       "10537.p1e2.272.feb11          0.0       0.0       0.0  \n",
       "10537.p3a4.275.mar6           0.0       0.0       0.0  \n",
       "\n",
       "[5 rows x 4700 columns]"
      ]
     },
     "execution_count": 2,
     "metadata": {},
     "output_type": "execute_result"
    }
   ],
   "source": [
    "# import the biom table\n",
    "table = load_table('data/micemeth/reference-hit.biom')\n",
    "# import taxa\n",
    "taxa = pd.read_table('data/micemeth/taxonomy.tsv', index_col=0)\n",
    "# import the metadata\n",
    "meta = pd.read_table('data/micemeth/10537_20180929-125415.txt', index_col=0)\n",
    "\n",
    "# filter sample to min depth\n",
    "def sample_filter(val, id_, md): return sum(val) > 0\n",
    "def observation_filter(val, id_, md): return sum(val) > 0\n",
    "table = table.filter(sample_filter, axis='sample')\n",
    "table = table.filter(observation_filter, axis='observation')\n",
    "\n",
    "# ensure index matches\n",
    "table,taxa = match(table.to_dataframe(),taxa)\n",
    "table,meta = match(table.T,meta)\n",
    "\n",
    "# rename table otus\n",
    "table.columns=['sOTU'+str(i) for i in range(len(table.columns))]\n",
    "taxa['sequence'] = taxa.index\n",
    "taxa.index = table.columns\n",
    "\n",
    "#view table\n",
    "table.head(5)\n"
   ]
  },
  {
   "cell_type": "markdown",
   "metadata": {},
   "source": [
    "### offspring re-arrange into a tensor\n"
   ]
  },
  {
   "cell_type": "code",
   "execution_count": 68,
   "metadata": {},
   "outputs": [
    {
     "data": {
      "text/plain": [
       "(120, 875)"
      ]
     },
     "execution_count": 68,
     "metadata": {},
     "output_type": "execute_result"
    }
   ],
   "source": [
    "# offspring\n",
    "meta_offspring = meta[meta.treatment_group.isin(['meth.offspring','saline.offspring'])]\n",
    "meta_offspring['ID'] =[x.split('.')[-1]+'_'+x.split('.')[1][3:] for x in meta_offspring.index]\n",
    "\n",
    "# get table and filter features \n",
    "table_offspring,meta_offspring = match(table,meta_offspring)\n",
    "table_offspring = table_offspring[table_offspring.sum(axis=1)>500]\n",
    "table_offspring,meta_offspring = match(table_offspring,meta_offspring)\n",
    "\n",
    "# table by timepoint\n",
    "meta_offspring_time = {k:df for k,df in meta_offspring.groupby('timepoint')}\n",
    "\n",
    "# remove samples not present in every timepoint\n",
    "dropday = {k_:[v_ for v_ in list(set(meta_offspring['ID'])-set(df_['ID']))] \n",
    "           for k_,df_ in meta_offspring_time.items()}\n",
    "meta_offspring = meta_offspring[~meta_offspring.timepoint.isin([k for k,v in dropday.items() if len(v)!=0])]\n",
    "\n",
    "#final match\n",
    "table_offspring = table_offspring.T[table_offspring.sum()>10].T\n",
    "table_offspring,meta_offspring = match(table_offspring,meta_offspring)\n",
    "table_offspring.shape\n"
   ]
  },
  {
   "cell_type": "code",
   "execution_count": 69,
   "metadata": {},
   "outputs": [
    {
     "data": {
      "text/plain": [
       "(5, 875, 24)"
      ]
     },
     "execution_count": 69,
     "metadata": {},
     "output_type": "execute_result"
    }
   ],
   "source": [
    "# table by timepoint\n",
    "meta_offspring_time = {k:df for k,df in meta_offspring.groupby('timepoint')}\n",
    "# create tensor\n",
    "tensor_offspring = []\n",
    "for timepoint in sorted(meta_offspring_time.keys()):\n",
    "    table_tmp,meta_tmp = match(table_offspring,meta_offspring_time[timepoint])\n",
    "    meta_tmp.set_index('ID',inplace=True,drop=True)\n",
    "    table_tmp = table_tmp.T.sort_index().T\n",
    "    table_tmp.index = meta_tmp.index\n",
    "    table_tmp.sort_index(inplace=True)\n",
    "    meta_tmp.sort_index(inplace=True)\n",
    "    meta_offspring_time[timepoint] = meta_tmp\n",
    "    tensor_offspring.append(table_tmp)\n",
    "TOff = np.dstack(tensor_offspring).T\n",
    "TOff.shape\n"
   ]
  },
  {
   "cell_type": "code",
   "execution_count": 70,
   "metadata": {},
   "outputs": [],
   "source": [
    "TOff_f = np.concatenate([TOff[i,:,:].T for i in range(TOff.shape[0])],axis=0)\n",
    "sumzerod = [table_tmp.columns[i] for i, x in enumerate(list(TOff_f.sum(axis=0))) if x == 0]\n",
    "table_offspring = table_offspring.drop(sumzerod,axis=1)\n"
   ]
  },
  {
   "cell_type": "code",
   "execution_count": 71,
   "metadata": {},
   "outputs": [
    {
     "data": {
      "text/plain": [
       "(5, 774, 24)"
      ]
     },
     "execution_count": 71,
     "metadata": {},
     "output_type": "execute_result"
    }
   ],
   "source": [
    "# table by timepoint\n",
    "meta_offspring_time = {k:df for k,df in meta_offspring.groupby('timepoint')}\n",
    "# create tensor\n",
    "tensor_offspring = []\n",
    "for timepoint in sorted(meta_offspring_time.keys()):\n",
    "    table_tmp,meta_tmp = match(table_offspring,meta_offspring_time[timepoint])\n",
    "    meta_tmp.set_index('ID',inplace=True,drop=True)\n",
    "    table_tmp = table_tmp.T.sort_index().T\n",
    "    table_tmp.index = meta_tmp.index\n",
    "    table_tmp.sort_index(inplace=True)\n",
    "    meta_tmp.sort_index(inplace=True)\n",
    "    meta_offspring_time[timepoint] = meta_tmp\n",
    "    tensor_offspring.append(table_tmp)\n",
    "TOff = np.dstack(tensor_offspring).T\n",
    "TOff.shape"
   ]
  },
  {
   "cell_type": "code",
   "execution_count": 72,
   "metadata": {},
   "outputs": [],
   "source": [
    "# flatten, transform, and reshape \n",
    "TOff_rclr = np.concatenate([TOff[i,:,:].T for i in range(TOff.shape[0])],axis=0)\n",
    "TOff_rclr = rclr().fit_transform(TOff_rclr)\n",
    "TOff_rclr = np.dstack([TOff_rclr[(i-1)*TOff.shape[-1]:(i)*TOff.shape[-1]] for i in range(1,TOff.shape[0]+1)])\n",
    "TOff_rclr[np.isnan(TOff_rclr)] = 0 \n"
   ]
  },
  {
   "cell_type": "code",
   "execution_count": 73,
   "metadata": {},
   "outputs": [
    {
     "name": "stdout",
     "output_type": "stream",
     "text": [
      "CPU times: user 3.32 s, sys: 470 ms, total: 3.79 s\n",
      "Wall time: 3.28 s\n"
     ]
    }
   ],
   "source": [
    "%%time\n",
    "L1,L2,L3,s = TenAls(rank=3).fit_transform(TOff_rclr)\n"
   ]
  },
  {
   "cell_type": "code",
   "execution_count": 74,
   "metadata": {},
   "outputs": [
    {
     "name": "stdout",
     "output_type": "stream",
     "text": [
      "CPU times: user 3.31 s, sys: 468 ms, total: 3.78 s\n",
      "Wall time: 3.25 s\n"
     ]
    }
   ],
   "source": [
    "%%time\n",
    "tnaloff = TenAls(rank=3).fit(TOff_rclr)\n"
   ]
  },
  {
   "cell_type": "markdown",
   "metadata": {},
   "source": [
    "### visualize ordination "
   ]
  },
  {
   "cell_type": "code",
   "execution_count": 75,
   "metadata": {},
   "outputs": [],
   "source": [
    "# make df\n",
    "offtime_ordin = pd.DataFrame(tnaloff.time_loading,sorted(meta_offspring_time.keys()),columns=['PC1','PC2','PC3'])\n",
    "offfeature_ordin = pd.DataFrame(tnaloff.feature_loading,table_offspring.columns,columns=['PC1','PC2','PC3'])\n",
    "offsample_ordin = pd.DataFrame(tnaloff.sample_loading,table_tmp.index,columns=['PC1','PC2','PC3'])\n",
    "\n"
   ]
  },
  {
   "cell_type": "code",
   "execution_count": 76,
   "metadata": {},
   "outputs": [
    {
     "data": {
      "image/png": "[encoded data removed]",
      "text/plain": [
       "<Figure size 360x360 with 1 Axes>"
      ]
     },
     "metadata": {},
     "output_type": "display_data"
    }
   ],
   "source": [
    "fig,ax = plt.subplots(1,1,figsize=(5,5))\n",
    "\n",
    "\n",
    "_ = plot_pcoa('PC1', 'PC2', offsample_ordin, meta_tmp, ax, 'treated')\n",
    "ax.set_xlabel('PC1 ('+str(tnaloff.explained_variance_ratio[0]*100)[:4]+'%)',fontsize=15)\n",
    "ax.set_ylabel('PC2 ('+str(tnaloff.explained_variance_ratio[1]*100)[:4]+'%)',fontsize=15)\n",
    "\n",
    "plt.legend()\n",
    "plt.show()\n"
   ]
  },
  {
   "cell_type": "code",
   "execution_count": 77,
   "metadata": {},
   "outputs": [
    {
     "data": {
      "text/plain": [
       "'data/micemeth/rena_offspring_tenatch.txt'"
      ]
     },
     "execution_count": 77,
     "metadata": {},
     "output_type": "execute_result"
    }
   ],
   "source": [
    "# ordination emperor\n",
    "\n",
    "time_loading = pd.DataFrame(tnaloff.time_loading,sorted(meta_offspring_time.keys()),columns=['PC1','PC2','PC3'])\n",
    "feature_loading = pd.DataFrame(tnaloff.feature_loading,table_offspring.columns,columns=['PC1','PC2','PC3'])\n",
    "sample_loading = pd.DataFrame(tnaloff.sample_loading,table_tmp.index,columns=['PC1','PC2','PC3'])\n",
    "taxa_off = taxa.T[feature_loading.index].T.set_index('sequence')\n",
    "sample_loading.index.name = None\n",
    "feature_loading.index.name = None\n",
    "taxa_off.index.name = 'Feature ID'\n",
    "\n",
    "feature_loading.index = taxa_off.index \n",
    "eigvals = pd.Series(tnaloff.eigenvalues,\n",
    "                        index=sample_loading.columns)\n",
    "proportion_explained = pd.Series(tnaloff.explained_variance_ratio,\n",
    "                                 index=sample_loading.columns)\n",
    "\n",
    "# save ordination results \n",
    "ord_res = OrdinationResults(\n",
    "        'PCoA', \n",
    "        'Principal Coordinate Analysis',\n",
    "        eigvals.copy(),\n",
    "        sample_loading.copy(),\n",
    "        features=feature_loading.copy(),\n",
    "        proportion_explained=proportion_explained.copy())\n",
    "# write files to output folder\n",
    "meta_tmp.to_csv('data/micemeth/offspring_map.tsv',sep='\\t')\n",
    "taxa_off.to_csv('data/micemeth/offspring_taxonomy.tsv',sep='\\t')\n",
    "ord_res.write('data/micemeth/rena_offspring_tenatch.txt')\n"
   ]
  },
  {
   "cell_type": "code",
   "execution_count": 40,
   "metadata": {},
   "outputs": [
    {
     "name": "stdout",
     "output_type": "stream",
     "text": [
      "\u001b[32mImported data/micemeth/rena_offspring_tenatch.txt as OrdinationDirectoryFormat to data/micemeth/rena_offspring_tenatch.qza\u001b[0m\r\n"
     ]
    }
   ],
   "source": [
    "!qiime tools import \\\n",
    "  --input-path data/micemeth/rena_offspring_tenatch.txt \\\n",
    "  --type 'PCoAResults % Properties(\"biplot\")' \\\n",
    "  --output-path data/micemeth/rena_offspring_tenatch.qza"
   ]
  },
  {
   "cell_type": "code",
   "execution_count": 41,
   "metadata": {},
   "outputs": [
    {
     "name": "stdout",
     "output_type": "stream",
     "text": [
      "\u001b[32mImported data/micemeth/offspring_taxonomy.tsv as TSVTaxonomyDirectoryFormat to data/micemeth/offspring_taxonomy.qza\u001b[0m\r\n"
     ]
    }
   ],
   "source": [
    "!qiime tools import \\\n",
    "  --input-path data/micemeth/offspring_taxonomy.tsv \\\n",
    "  --type 'FeatureData[Taxonomy]' \\\n",
    "  --output-path data/micemeth/offspring_taxonomy.qza"
   ]
  },
  {
   "cell_type": "code",
   "execution_count": 44,
   "metadata": {},
   "outputs": [
    {
     "name": "stdout",
     "output_type": "stream",
     "text": [
      "\u001b[32mSaved Visualization to: data/micemeth/offspring_biplot.qzv\u001b[0m\r\n"
     ]
    }
   ],
   "source": [
    "!qiime emperor biplot \\\n",
    "    --i-biplot data/micemeth/rena_offspring_tenatch.qza \\\n",
    "    --m-sample-metadata-file data/micemeth/offspring_map.tsv \\\n",
    "    --m-feature-metadata-file  data/micemeth/offspring_taxonomy.qza \\\n",
    "    --o-visualization data/micemeth/offspring_biplot.qzv \\\n",
    "    --p-number-of-features 20\n"
   ]
  },
  {
   "cell_type": "markdown",
   "metadata": {},
   "source": [
    "### log-ratio in time"
   ]
  },
  {
   "cell_type": "code",
   "execution_count": 355,
   "metadata": {},
   "outputs": [],
   "source": [
    "numerator = offfeature_ordin.sort_values('PC1').index[0]\n",
    "# get abudnant microbe across all time \n",
    "tabledenom,_ = match(table,lrmetaoff)\n",
    "denom = tabledenom.mean(axis=0).sort_values(ascending=False).index[2]\n",
    "denom_opp = offfeature_ordin.sort_values('PC1').index[-3]"
   ]
  },
  {
   "cell_type": "code",
   "execution_count": 356,
   "metadata": {},
   "outputs": [
    {
     "name": "stderr",
     "output_type": "stream",
     "text": [
      "/anaconda3/envs/qiime2-2018.11/lib/python3.5/site-packages/ipykernel_launcher.py:14: FutureWarning: convert_objects is deprecated.  To re-infer data dtypes for object columns, use DataFrame.infer_objects()\n",
      "For all other conversions use the data-type specific converters pd.to_datetime, pd.to_timedelta and pd.to_numeric.\n",
      "  \n"
     ]
    }
   ],
   "source": [
    "# offspring\n",
    "lrmetaoff = meta[meta.treatment_group.isin(['meth.offspring','saline.offspring'])]\n",
    "lrmetaoff_time = {t_:match(table,tdf_) for t_,tdf_ in lrmetaoff.groupby('timepoint')}\n",
    "lrmetaoff_timedf = []\n",
    "for t_,tdfs_ in lrmetaoff_time.items():\n",
    "    ratiodf = pd.DataFrame([np.array(np.log(tdfs_[0].loc[:,numerator]+1) - np.log(tdfs_[0].loc[:,denom]+1)).flatten(),\n",
    "                            np.array(np.log(tdfs_[0].loc[:,numerator]+1) - np.log(tdfs_[0].loc[:,denom_opp]+1)).flatten(),\n",
    "                            np.array(tdfs_[1]['treatment_group'].values)]).T\n",
    "    ratiodf.index = tdfs_[1].index\n",
    "    ratiodf.columns = ['Ratio_Core','Ratio_Opposite','Treatment']\n",
    "    ratiodf['time'] = t_.split(' ')[0]\n",
    "    lrmetaoff_timedf.append(ratiodf)\n",
    "lrmetaoff_timedf = pd.concat(lrmetaoff_timedf,axis=0)\n",
    "lrmetaoff_timedf = lrmetaoff_timedf.convert_objects(convert_numeric=True)\n",
    "maptrat = {'meth.offspring':'Offspring of Meth Treated Mother', 'saline.offspring':'Offspring of Saline Treated Mother'}\n",
    "lrmetaoff_timedf['Treatment'] = [maptrat[x] for x in lrmetaoff_timedf.Treatment]\n",
    " "
   ]
  },
  {
   "cell_type": "code",
   "execution_count": 374,
   "metadata": {},
   "outputs": [
    {
     "data": {
      "image/png": "[encoded data removed]",
      "text/plain": [
       "<Figure size 1080x360 with 1 Axes>"
      ]
     },
     "metadata": {
      "needs_background": "light"
     },
     "output_type": "display_data"
    }
   ],
   "source": [
    "fig,axn = plt.subplots(1,1,figsize=(15,5))\n",
    "axn = sns.pointplot(x=\"time\", y=\"Ratio_Core\", hue=\"Treatment\", \n",
    "              data=lrmetaoff_timedf,ci=95)\n",
    "axn.set_ylabel('$\\\\frac{Meth\\,\\,Enriched\\,\\,Microbe}{Core\\,Microbe}$',fontsize=30)\n",
    "axn.set_xlabel('Day(s)',fontsize=22)\n",
    "axn.legend(loc=2, prop={'size': 25})\n",
    "fig.savefig('figures/mmouse/lr_core.png',dpi=300, \n",
    "            bbox_inches='tight',facecolor='white')\n",
    "plt.show()\n",
    "\n"
   ]
  },
  {
   "cell_type": "code",
   "execution_count": 375,
   "metadata": {},
   "outputs": [
    {
     "data": {
      "image/png": "[encoded data removed]",
      "text/plain": [
       "<Figure size 1080x360 with 1 Axes>"
      ]
     },
     "metadata": {
      "needs_background": "light"
     },
     "output_type": "display_data"
    }
   ],
   "source": [
    "fig,axn = plt.subplots(1,1,figsize=(15,5))\n",
    "axn = sns.pointplot(x=\"time\", y=\"Ratio_Opposite\", hue=\"Treatment\", \n",
    "              data=lrmetaoff_timedf,ci=95)\n",
    "axn.set_ylabel('$\\\\frac{Meth\\,\\,Enriched\\,\\,Microbe}{Saline\\,\\,Enriched\\,\\,Microbe}$',fontsize=30)\n",
    "axn.set_xlabel('Day(s)',fontsize=22)\n",
    "axn.legend(loc=2, prop={'size': 25})\n",
    "fig.savefig('figures/mmouse/lr_opp.png',dpi=300, \n",
    "            bbox_inches='tight',facecolor='white')\n",
    "plt.show()\n"
   ]
  },
  {
   "cell_type": "code",
   "execution_count": null,
   "metadata": {},
   "outputs": [],
   "source": []
  },
  {
   "cell_type": "code",
   "execution_count": null,
   "metadata": {},
   "outputs": [],
   "source": []
  },
  {
   "cell_type": "code",
   "execution_count": null,
   "metadata": {},
   "outputs": [],
   "source": []
  },
  {
   "cell_type": "code",
   "execution_count": null,
   "metadata": {},
   "outputs": [],
   "source": []
  },
  {
   "cell_type": "code",
   "execution_count": null,
   "metadata": {},
   "outputs": [],
   "source": []
  },
  {
   "cell_type": "code",
   "execution_count": null,
   "metadata": {},
   "outputs": [],
   "source": []
  },
  {
   "cell_type": "markdown",
   "metadata": {},
   "source": [
    "### mother re-arrange into a tensor\n"
   ]
  },
  {
   "cell_type": "code",
   "execution_count": 46,
   "metadata": {},
   "outputs": [
    {
     "data": {
      "text/plain": [
       "(216, 1048)"
      ]
     },
     "execution_count": 46,
     "metadata": {},
     "output_type": "execute_result"
    }
   ],
   "source": [
    "# mothers\n",
    "meta_mother = meta[meta.treatment_group.isin(['meth.mother','saline.mother'])]\n",
    "meta_mother['ID'] =[x.split('.')[1][3:] for x in meta_mother.index]\n",
    "\n",
    "# get table and filter features \n",
    "table_mother,meta_mother = match(table,meta_mother)\n",
    "table_mother = table_mother[table_mother.sum(axis=1)>1000]\n",
    "table_mother,meta_mother = match(table_mother,meta_mother)\n",
    "\n",
    "# table by timepoint\n",
    "meta_mother_time = {k:df for k,df in meta_mother.groupby('timepoint')}\n",
    "\n",
    "# remove samples not present in every timepoint\n",
    "dropday = {k_:[v_ for v_ in list(set(meta_mother['ID'])-set(df_['ID']))] \n",
    "           for k_,df_ in meta_mother_time.items()}\n",
    "meta_mother = meta_mother[~meta_mother.timepoint.isin([k for k,v in dropday.items() if len(v)!=0])]\n",
    "\n",
    "#final match\n",
    "table_mother = table_mother.T[table_mother.sum()>10].T\n",
    "table_mother,meta_mother = match(table_mother,meta_mother)\n",
    "table_mother.shape"
   ]
  },
  {
   "cell_type": "code",
   "execution_count": 47,
   "metadata": {},
   "outputs": [
    {
     "data": {
      "text/plain": [
       "18"
      ]
     },
     "execution_count": 47,
     "metadata": {},
     "output_type": "execute_result"
    }
   ],
   "source": [
    "#time points left (12-samples)\n",
    "len(table_mother.index)//len(set(meta_mother.ID))"
   ]
  },
  {
   "cell_type": "code",
   "execution_count": 48,
   "metadata": {},
   "outputs": [
    {
     "data": {
      "text/plain": [
       "(18, 1048, 12)"
      ]
     },
     "execution_count": 48,
     "metadata": {},
     "output_type": "execute_result"
    }
   ],
   "source": [
    "# table by timepoint\n",
    "meta_mother_time = {k:df for k,df in meta_mother.groupby('timepoint')}\n",
    "# create tensor\n",
    "tensor_mother = []\n",
    "tensor_mother_ch = {}\n",
    "for timepoint in sorted(meta_mother_time.keys()):\n",
    "    table_tmp,meta_tmp = match(table_mother,meta_mother_time[timepoint])\n",
    "    meta_tmp.set_index('ID',inplace=True,drop=True)\n",
    "    table_tmp = table_tmp.T.sort_index().T\n",
    "    table_tmp.index = meta_tmp.index\n",
    "    table_tmp.sort_index(inplace=True)\n",
    "    meta_tmp.sort_index(inplace=True)\n",
    "    meta_mother_time[timepoint] = meta_tmp\n",
    "    tensor_mother.append(table_tmp)\n",
    "    tensor_mother_ch[timepoint] = table_tmp.shape\n",
    "TMom = np.dstack(tensor_mother).T\n",
    "TMom.shape\n"
   ]
  },
  {
   "cell_type": "code",
   "execution_count": 49,
   "metadata": {},
   "outputs": [],
   "source": [
    "TMom_f = np.concatenate([TMom[i,:,:].T for i in range(TMom.shape[0])],axis=0)\n",
    "sumzerod = [table_tmp.columns[i] for i, x in enumerate(list(TMom_f.sum(axis=0))) if x == 0]\n",
    "table_mother = table_mother.drop(sumzerod,axis=1)\n"
   ]
  },
  {
   "cell_type": "code",
   "execution_count": 50,
   "metadata": {},
   "outputs": [
    {
     "data": {
      "text/plain": [
       "(18, 905, 12)"
      ]
     },
     "execution_count": 50,
     "metadata": {},
     "output_type": "execute_result"
    }
   ],
   "source": [
    "# table by timepoint\n",
    "meta_mother_time = {k:df for k,df in meta_mother.groupby('timepoint')}\n",
    "# create tensor\n",
    "tensor_mother = []\n",
    "for timepoint in sorted(meta_mother_time.keys()):\n",
    "    table_tmp,meta_tmp = match(table_mother,meta_mother_time[timepoint])\n",
    "    meta_tmp.set_index('ID',inplace=True,drop=True)\n",
    "    table_tmp = table_tmp.T.sort_index().T\n",
    "    table_tmp.index = meta_tmp.index\n",
    "    table_tmp.sort_index(inplace=True)\n",
    "    meta_tmp.sort_index(inplace=True)\n",
    "    meta_mother_time[timepoint] = meta_tmp\n",
    "    tensor_mother.append(table_tmp)\n",
    "TMom = np.dstack(tensor_mother).T\n",
    "TMom.shape\n"
   ]
  },
  {
   "cell_type": "code",
   "execution_count": 51,
   "metadata": {},
   "outputs": [
    {
     "data": {
      "text/plain": [
       "[]"
      ]
     },
     "execution_count": 51,
     "metadata": {},
     "output_type": "execute_result"
    }
   ],
   "source": [
    "TMom_f = np.concatenate([TMom[i,:,:].T for i in range(TMom.shape[0])],axis=0)\n",
    "[table_tmp.columns[i] for i, x in enumerate(list(TMom_f.sum(axis=0))) if x == 0]"
   ]
  },
  {
   "cell_type": "code",
   "execution_count": 52,
   "metadata": {},
   "outputs": [],
   "source": [
    "# flatten, transform, and reshape \n",
    "TMom_rclr = np.concatenate([TMom[i,:,:].T for i in range(TMom.shape[0])],axis=0)\n",
    "TMom_rclr = rclr().fit_transform(TMom_rclr)\n",
    "TMom_rclr = np.dstack([TMom_rclr[(i-1)*TMom.shape[-1]:(i)*TMom.shape[-1]] for i in range(1,TMom.shape[0]+1)])\n",
    "TMom_rclr[np.isnan(TMom_rclr)] = 0 \n"
   ]
  },
  {
   "cell_type": "code",
   "execution_count": 53,
   "metadata": {},
   "outputs": [
    {
     "name": "stdout",
     "output_type": "stream",
     "text": [
      "CPU times: user 9.34 s, sys: 50.2 ms, total: 9.39 s\n",
      "Wall time: 9.39 s\n"
     ]
    }
   ],
   "source": [
    "%%time\n",
    "tnalmom = TenAls(rank=3).fit(TMom_rclr)\n"
   ]
  },
  {
   "cell_type": "code",
   "execution_count": 54,
   "metadata": {
    "scrolled": true
   },
   "outputs": [],
   "source": [
    "# make df\n",
    "momtime_ordin = pd.DataFrame(tnalmom.time_loading,sorted(meta_mother_time.keys()),columns=['PC1','PC2','PC3'])\n",
    "momeature_ordin = pd.DataFrame(tnalmom.feature_loading,table_mother.columns,columns=['PC1','PC2','PC3'])\n",
    "momsample_ordin = pd.DataFrame(tnalmom.sample_loading,table_tmp.index,columns=['PC1','PC2','PC3'])\n"
   ]
  },
  {
   "cell_type": "code",
   "execution_count": 55,
   "metadata": {},
   "outputs": [
    {
     "data": {
      "image/png": "[encoded data removed]",
      "text/plain": [
       "<Figure size 360x360 with 1 Axes>"
      ]
     },
     "metadata": {},
     "output_type": "display_data"
    }
   ],
   "source": [
    "fig,ax = plt.subplots(1,1,figsize=(5,5))\n",
    "\n",
    "\n",
    "_ = plot_pcoa('PC1', 'PC2', momsample_ordin, meta_tmp, ax, 'treated')\n",
    "ax.set_xlabel('PC1 ('+str(tnalmom.explained_variance_ratio[0]*100)[:4]+'%)',fontsize=15)\n",
    "ax.set_ylabel('PC2 ('+str(tnalmom.explained_variance_ratio[1]*100)[:4]+'%)',fontsize=15)\n",
    "\n",
    "plt.legend()\n",
    "plt.show()\n"
   ]
  },
  {
   "cell_type": "code",
   "execution_count": 56,
   "metadata": {},
   "outputs": [
    {
     "data": {
      "text/plain": [
       "'data/micemeth/rena_mother_tenatch.txt'"
      ]
     },
     "execution_count": 56,
     "metadata": {},
     "output_type": "execute_result"
    }
   ],
   "source": [
    "# ordination emperor\n",
    "\n",
    "time_loading = pd.DataFrame(tnalmom.time_loading,sorted(meta_mother_time.keys()),columns=['PC1','PC2','PC3'])\n",
    "feature_loading = pd.DataFrame(tnalmom.feature_loading,table_mother.columns,columns=['PC1','PC2','PC3'])\n",
    "sample_loading = pd.DataFrame(tnalmom.sample_loading,table_tmp.index,columns=['PC1','PC2','PC3'])\n",
    "taxa_mom = taxa.T[feature_loading.index].T.set_index('sequence')\n",
    "sample_loading.index.name = None\n",
    "feature_loading.index.name = None\n",
    "taxa_mom.index.name = 'Feature ID'\n",
    "\n",
    "feature_loading.index = taxa_mom.index \n",
    "eigvals = pd.Series(tnalmom.eigenvalues,\n",
    "                        index=sample_loading.columns)\n",
    "proportion_explained = pd.Series(tnalmom.explained_variance_ratio,\n",
    "                                 index=sample_loading.columns)\n",
    "\n",
    "# save ordination results \n",
    "ord_mom = OrdinationResults(\n",
    "        'PCoA', \n",
    "        'Principal Coordinate Analysis',\n",
    "        eigvals.copy(),\n",
    "        sample_loading.copy(),\n",
    "        features=feature_loading.copy(),\n",
    "        proportion_explained=proportion_explained.copy())\n",
    "# write files to output folder\n",
    "meta_tmp.to_csv('data/micemeth/mother_map.tsv',sep='\\t')\n",
    "taxa_mom.to_csv('data/micemeth/mother_taxonomy.tsv',sep='\\t')\n",
    "ord_mom.write('data/micemeth/rena_mother_tenatch.txt')\n",
    "\n"
   ]
  },
  {
   "cell_type": "code",
   "execution_count": 57,
   "metadata": {},
   "outputs": [
    {
     "name": "stdout",
     "output_type": "stream",
     "text": [
      "\u001b[32mImported data/micemeth/rena_mother_tenatch.txt as OrdinationDirectoryFormat to data/micemeth/rena_mother_tenatch.qza\u001b[0m\r\n"
     ]
    }
   ],
   "source": [
    "!qiime tools import \\\n",
    "  --input-path data/micemeth/rena_mother_tenatch.txt \\\n",
    "  --type 'PCoAResults % Properties(\"biplot\")' \\\n",
    "  --output-path data/micemeth/rena_mother_tenatch.qza\n"
   ]
  },
  {
   "cell_type": "code",
   "execution_count": 58,
   "metadata": {},
   "outputs": [
    {
     "name": "stdout",
     "output_type": "stream",
     "text": [
      "\u001b[32mImported data/micemeth/mother_taxonomy.tsv as TSVTaxonomyDirectoryFormat to data/micemeth/mother_taxonomy.qza\u001b[0m\r\n"
     ]
    }
   ],
   "source": [
    "!qiime tools import \\\n",
    "  --input-path data/micemeth/mother_taxonomy.tsv \\\n",
    "  --type 'FeatureData[Taxonomy]' \\\n",
    "  --output-path data/micemeth/mother_taxonomy.qza\n"
   ]
  },
  {
   "cell_type": "code",
   "execution_count": 59,
   "metadata": {},
   "outputs": [
    {
     "name": "stdout",
     "output_type": "stream",
     "text": [
      "\u001b[32mSaved Visualization to: data/micemeth/mothers_biplot.qzv\u001b[0m\r\n"
     ]
    }
   ],
   "source": [
    "!qiime emperor biplot \\\n",
    "    --i-biplot data/micemeth/rena_mother_tenatch.qza \\\n",
    "    --m-sample-metadata-file data/micemeth/mother_map.tsv \\\n",
    "    --m-feature-metadata-file  data/micemeth/mother_taxonomy.qza \\\n",
    "    --o-visualization data/micemeth/mothers_biplot.qzv \\\n",
    "    --p-number-of-features 20\n"
   ]
  },
  {
   "cell_type": "code",
   "execution_count": null,
   "metadata": {},
   "outputs": [],
   "source": []
  },
  {
   "cell_type": "code",
   "execution_count": null,
   "metadata": {},
   "outputs": [],
   "source": []
  },
  {
   "cell_type": "code",
   "execution_count": null,
   "metadata": {},
   "outputs": [],
   "source": []
  },
  {
   "cell_type": "code",
   "execution_count": null,
   "metadata": {},
   "outputs": [],
   "source": []
  },
  {
   "cell_type": "code",
   "execution_count": null,
   "metadata": {},
   "outputs": [],
   "source": []
  },
  {
   "cell_type": "code",
   "execution_count": null,
   "metadata": {},
   "outputs": [],
   "source": []
  },
  {
   "cell_type": "code",
   "execution_count": null,
   "metadata": {},
   "outputs": [],
   "source": []
  },
  {
   "cell_type": "code",
   "execution_count": null,
   "metadata": {},
   "outputs": [],
   "source": []
  },
  {
   "cell_type": "code",
   "execution_count": null,
   "metadata": {},
   "outputs": [],
   "source": []
  },
  {
   "cell_type": "code",
   "execution_count": null,
   "metadata": {},
   "outputs": [],
   "source": []
  },
  {
   "cell_type": "code",
   "execution_count": null,
   "metadata": {},
   "outputs": [],
   "source": []
  }
 ],
 "metadata": {
  "kernelspec": {
   "display_name": "Python 3",
   "language": "python",
   "name": "python3"
  },
  "language_info": {
   "codemirror_mode": {
    "name": "ipython",
    "version": 3
   },
   "file_extension": ".py",
   "mimetype": "text/x-python",
   "name": "python",
   "nbconvert_exporter": "python",
   "pygments_lexer": "ipython3",
   "version": "3.5.5"
  }
 },
 "nbformat": 4,
 "nbformat_minor": 2
}
