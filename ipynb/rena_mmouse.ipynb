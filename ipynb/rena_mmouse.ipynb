{
 "cells": [
  {
   "cell_type": "code",
   "execution_count": 1,
   "metadata": {},
   "outputs": [],
   "source": [
    "import numpy as np\n",
    "import pandas as pd\n",
    "from biom import load_table\n",
    "from gneiss.util import match\n",
    "from tensor_factor import TenAls\n",
    "from deicode.optspace import OptSpace\n",
    "from deicode.preprocessing import rclr\n",
    "from IPython.core.display import HTML\n",
    "pd.options.mode.chained_assignment = None  # default='warn'\n",
    "\n",
    "\n",
    "#plotting\n",
    "import seaborn as sns\n",
    "import matplotlib.pyplot as plt\n",
    "import matplotlib.colors as colors\n",
    "import matplotlib.gridspec as gridspec\n",
    "from matplotlib import ticker\n",
    "plt.style.use('ggplot')\n",
    "sns.set_style('whitegrid')\n",
    "plt.rcParams['xtick.labelsize']=20\n",
    "plt.rcParams['ytick.labelsize']=20\n",
    "%matplotlib inline \n",
    "\n",
    "def plot_pcoa(x, y, samples, md, ax, factor_, colors_map=['#1f78b4','#e31a1c']):\n",
    "    \"\"\" \n",
    "    Parameters\n",
    "    ----------\n",
    "    samples : pd.DataFrame\n",
    "        Contains PCoA coordinates\n",
    "    md : pd.Dataframe\n",
    "        Metadata object\n",
    "    ax : matplotlib.Axes\n",
    "        Contains matplotlib axes object\n",
    "    \"\"\"\n",
    "    classes=np.sort(list(set(md[factor_].values)))\n",
    "    cmap_out={}\n",
    "    for sub_class,color_ in zip(classes,colors_map):\n",
    "        idx = md[factor_] == sub_class        \n",
    "        ax.scatter(samples.loc[idx, x],\n",
    "           samples.loc[idx, y], \n",
    "           label=sub_class,\n",
    "           facecolors=color_,\n",
    "           edgecolors=color_,\n",
    "           alpha=.8,linewidth=3)        \n",
    "        cmap_out[sub_class]=color_\n",
    "    ax.grid()\n",
    "    ax.spines['right'].set_visible(False)\n",
    "    ax.spines['top'].set_visible(False)\n",
    "    ax.set_xticks([])\n",
    "    ax.set_yticks([])\n",
    "    ax.set_xlabel('PC1',fontsize=15)\n",
    "    ax.set_ylabel('PC2',fontsize=15)\n",
    "    \n",
    "    return ax\n",
    "\n",
    "class MidpointNormalize(colors.Normalize):\n",
    "    def __init__(self, vmin=None, vmax=None, midpoint=None, clip=False):\n",
    "        self.midpoint = midpoint\n",
    "        colors.Normalize.__init__(self, vmin, vmax, clip)\n",
    "\n",
    "    def __call__(self, value, clip=None):\n",
    "        x, y = [self.vmin, self.midpoint, self.vmax], [0, 0.5, 1]\n",
    "        return np.ma.masked_array(np.interp(value, x, y))\n"
   ]
  },
  {
   "cell_type": "code",
   "execution_count": 2,
   "metadata": {},
   "outputs": [
    {
     "data": {
      "text/html": [
       "<div>\n",
       "<style scoped>\n",
       "    .dataframe tbody tr th:only-of-type {\n",
       "        vertical-align: middle;\n",
       "    }\n",
       "\n",
       "    .dataframe tbody tr th {\n",
       "        vertical-align: top;\n",
       "    }\n",
       "\n",
       "    .dataframe thead th {\n",
       "        text-align: right;\n",
       "    }\n",
       "</style>\n",
       "<table border=\"1\" class=\"dataframe\">\n",
       "  <thead>\n",
       "    <tr style=\"text-align: right;\">\n",
       "      <th></th>\n",
       "      <th>sOTU0</th>\n",
       "      <th>sOTU1</th>\n",
       "      <th>sOTU2</th>\n",
       "      <th>sOTU3</th>\n",
       "      <th>sOTU4</th>\n",
       "      <th>sOTU5</th>\n",
       "      <th>sOTU6</th>\n",
       "      <th>sOTU7</th>\n",
       "      <th>sOTU8</th>\n",
       "      <th>sOTU9</th>\n",
       "      <th>...</th>\n",
       "      <th>sOTU4690</th>\n",
       "      <th>sOTU4691</th>\n",
       "      <th>sOTU4692</th>\n",
       "      <th>sOTU4693</th>\n",
       "      <th>sOTU4694</th>\n",
       "      <th>sOTU4695</th>\n",
       "      <th>sOTU4696</th>\n",
       "      <th>sOTU4697</th>\n",
       "      <th>sOTU4698</th>\n",
       "      <th>sOTU4699</th>\n",
       "    </tr>\n",
       "  </thead>\n",
       "  <tbody>\n",
       "    <tr>\n",
       "      <th>10537.p1e10.260.feb11</th>\n",
       "      <td>0.0</td>\n",
       "      <td>0.0</td>\n",
       "      <td>0.0</td>\n",
       "      <td>0.0</td>\n",
       "      <td>0.0</td>\n",
       "      <td>0.0</td>\n",
       "      <td>0.0</td>\n",
       "      <td>0.0</td>\n",
       "      <td>0.0</td>\n",
       "      <td>1330.0</td>\n",
       "      <td>...</td>\n",
       "      <td>0.0</td>\n",
       "      <td>0.0</td>\n",
       "      <td>0.0</td>\n",
       "      <td>0.0</td>\n",
       "      <td>0.0</td>\n",
       "      <td>0.0</td>\n",
       "      <td>0.0</td>\n",
       "      <td>0.0</td>\n",
       "      <td>0.0</td>\n",
       "      <td>0.0</td>\n",
       "    </tr>\n",
       "    <tr>\n",
       "      <th>10537.p5e4.25days.meth</th>\n",
       "      <td>0.0</td>\n",
       "      <td>0.0</td>\n",
       "      <td>0.0</td>\n",
       "      <td>0.0</td>\n",
       "      <td>0.0</td>\n",
       "      <td>0.0</td>\n",
       "      <td>0.0</td>\n",
       "      <td>0.0</td>\n",
       "      <td>0.0</td>\n",
       "      <td>844.0</td>\n",
       "      <td>...</td>\n",
       "      <td>0.0</td>\n",
       "      <td>0.0</td>\n",
       "      <td>0.0</td>\n",
       "      <td>0.0</td>\n",
       "      <td>0.0</td>\n",
       "      <td>0.0</td>\n",
       "      <td>0.0</td>\n",
       "      <td>0.0</td>\n",
       "      <td>0.0</td>\n",
       "      <td>0.0</td>\n",
       "    </tr>\n",
       "    <tr>\n",
       "      <th>10537.p2g10.260.mar2</th>\n",
       "      <td>0.0</td>\n",
       "      <td>0.0</td>\n",
       "      <td>0.0</td>\n",
       "      <td>0.0</td>\n",
       "      <td>0.0</td>\n",
       "      <td>0.0</td>\n",
       "      <td>0.0</td>\n",
       "      <td>0.0</td>\n",
       "      <td>0.0</td>\n",
       "      <td>149.0</td>\n",
       "      <td>...</td>\n",
       "      <td>0.0</td>\n",
       "      <td>0.0</td>\n",
       "      <td>0.0</td>\n",
       "      <td>0.0</td>\n",
       "      <td>0.0</td>\n",
       "      <td>0.0</td>\n",
       "      <td>0.0</td>\n",
       "      <td>0.0</td>\n",
       "      <td>0.0</td>\n",
       "      <td>0.0</td>\n",
       "    </tr>\n",
       "    <tr>\n",
       "      <th>10537.p2a10.260.feb19</th>\n",
       "      <td>0.0</td>\n",
       "      <td>0.0</td>\n",
       "      <td>0.0</td>\n",
       "      <td>0.0</td>\n",
       "      <td>0.0</td>\n",
       "      <td>0.0</td>\n",
       "      <td>2.0</td>\n",
       "      <td>0.0</td>\n",
       "      <td>0.0</td>\n",
       "      <td>0.0</td>\n",
       "      <td>...</td>\n",
       "      <td>0.0</td>\n",
       "      <td>0.0</td>\n",
       "      <td>0.0</td>\n",
       "      <td>0.0</td>\n",
       "      <td>0.0</td>\n",
       "      <td>0.0</td>\n",
       "      <td>0.0</td>\n",
       "      <td>0.0</td>\n",
       "      <td>0.0</td>\n",
       "      <td>0.0</td>\n",
       "    </tr>\n",
       "    <tr>\n",
       "      <th>10537.p6e5.33days.meth</th>\n",
       "      <td>0.0</td>\n",
       "      <td>0.0</td>\n",
       "      <td>0.0</td>\n",
       "      <td>0.0</td>\n",
       "      <td>0.0</td>\n",
       "      <td>0.0</td>\n",
       "      <td>0.0</td>\n",
       "      <td>0.0</td>\n",
       "      <td>0.0</td>\n",
       "      <td>397.0</td>\n",
       "      <td>...</td>\n",
       "      <td>0.0</td>\n",
       "      <td>0.0</td>\n",
       "      <td>0.0</td>\n",
       "      <td>0.0</td>\n",
       "      <td>0.0</td>\n",
       "      <td>0.0</td>\n",
       "      <td>0.0</td>\n",
       "      <td>0.0</td>\n",
       "      <td>0.0</td>\n",
       "      <td>0.0</td>\n",
       "    </tr>\n",
       "  </tbody>\n",
       "</table>\n",
       "<p>5 rows × 4700 columns</p>\n",
       "</div>"
      ],
      "text/plain": [
       "                        sOTU0  sOTU1  sOTU2  sOTU3  sOTU4  sOTU5  sOTU6  \\\n",
       "10537.p1e10.260.feb11     0.0    0.0    0.0    0.0    0.0    0.0    0.0   \n",
       "10537.p5e4.25days.meth    0.0    0.0    0.0    0.0    0.0    0.0    0.0   \n",
       "10537.p2g10.260.mar2      0.0    0.0    0.0    0.0    0.0    0.0    0.0   \n",
       "10537.p2a10.260.feb19     0.0    0.0    0.0    0.0    0.0    0.0    2.0   \n",
       "10537.p6e5.33days.meth    0.0    0.0    0.0    0.0    0.0    0.0    0.0   \n",
       "\n",
       "                        sOTU7  sOTU8   sOTU9    ...     sOTU4690  sOTU4691  \\\n",
       "10537.p1e10.260.feb11     0.0    0.0  1330.0    ...          0.0       0.0   \n",
       "10537.p5e4.25days.meth    0.0    0.0   844.0    ...          0.0       0.0   \n",
       "10537.p2g10.260.mar2      0.0    0.0   149.0    ...          0.0       0.0   \n",
       "10537.p2a10.260.feb19     0.0    0.0     0.0    ...          0.0       0.0   \n",
       "10537.p6e5.33days.meth    0.0    0.0   397.0    ...          0.0       0.0   \n",
       "\n",
       "                        sOTU4692  sOTU4693  sOTU4694  sOTU4695  sOTU4696  \\\n",
       "10537.p1e10.260.feb11        0.0       0.0       0.0       0.0       0.0   \n",
       "10537.p5e4.25days.meth       0.0       0.0       0.0       0.0       0.0   \n",
       "10537.p2g10.260.mar2         0.0       0.0       0.0       0.0       0.0   \n",
       "10537.p2a10.260.feb19        0.0       0.0       0.0       0.0       0.0   \n",
       "10537.p6e5.33days.meth       0.0       0.0       0.0       0.0       0.0   \n",
       "\n",
       "                        sOTU4697  sOTU4698  sOTU4699  \n",
       "10537.p1e10.260.feb11        0.0       0.0       0.0  \n",
       "10537.p5e4.25days.meth       0.0       0.0       0.0  \n",
       "10537.p2g10.260.mar2         0.0       0.0       0.0  \n",
       "10537.p2a10.260.feb19        0.0       0.0       0.0  \n",
       "10537.p6e5.33days.meth       0.0       0.0       0.0  \n",
       "\n",
       "[5 rows x 4700 columns]"
      ]
     },
     "execution_count": 2,
     "metadata": {},
     "output_type": "execute_result"
    }
   ],
   "source": [
    "# import the biom table\n",
    "table = load_table('data/micemeth/reference-hit.biom')\n",
    "# import taxa\n",
    "taxa = pd.read_table('data/micemeth/taxonomy.tsv', index_col=0)\n",
    "# import the metadata\n",
    "meta = pd.read_table('data/micemeth/10537_20180929-125415.txt', index_col=0)\n",
    "\n",
    "# filter sample to min depth\n",
    "def sample_filter(val, id_, md): return sum(val) > 0\n",
    "def observation_filter(val, id_, md): return sum(val) > 0\n",
    "table = table.filter(sample_filter, axis='sample')\n",
    "table = table.filter(observation_filter, axis='observation')\n",
    "\n",
    "# ensure index matches\n",
    "table,taxa = match(table.to_dataframe(),taxa)\n",
    "table,meta = match(table.T,meta)\n",
    "\n",
    "# rename table otus\n",
    "table.columns=['sOTU'+str(i) for i in range(len(table.columns))]\n",
    "taxa['sequence'] = taxa.index\n",
    "taxa.index = table.columns\n",
    "\n",
    "#view table\n",
    "table.head(5)\n"
   ]
  },
  {
   "cell_type": "code",
   "execution_count": 3,
   "metadata": {},
   "outputs": [],
   "source": [
    "meta_mother = meta[meta.treatment_group.isin(['meth.mother','saline.mother'])]\n",
    "\n"
   ]
  },
  {
   "cell_type": "markdown",
   "metadata": {},
   "source": [
    "### re-arrange into a tensor\n"
   ]
  },
  {
   "cell_type": "code",
   "execution_count": 22,
   "metadata": {},
   "outputs": [],
   "source": [
    "# offspring\n",
    "meta_offspring = meta[meta.treatment_group.isin(['meth.offspring','saline.offspring'])]\n",
    "meta_offspring['ID'] =[x.split('.')[-1]+'_'+x.split('.')[1][3:] for x in meta_offspring.index]\n",
    "\n",
    "# get table and filter features \n",
    "table_offspring,meta_offspring = match(table,meta_offspring)\n",
    "table_offspring = table_offspring[table_offspring.sum(axis=1)>0]\n",
    "table_offspring = table_offspring.T[table_offspring.sum()>0].T\n",
    "table_offspring,meta_offspring = match(table_offspring,meta_offspring)\n",
    "\n",
    "# table by timepoint\n",
    "meta_offspring_time = {k:df for k,df in meta_offspring.groupby('timepoint')}\n",
    "\n",
    "# remove samples not present in every timepoint\n",
    "rmids = set([v_ for k_,df_ in meta_offspring_time.items() \n",
    "             for v_ in list(set(meta_offspring['ID'])-set(df_['ID']))])\n",
    "meta_offspring = meta_offspring[~meta_offspring.ID.isin(list(rmids))]\n",
    "\n",
    "#final match\n",
    "table_offspring = table_offspring.T[table_offspring.sum()>300].T\n",
    "table_offspring,meta_offspring = match(table_offspring,meta_offspring)\n"
   ]
  },
  {
   "cell_type": "code",
   "execution_count": 23,
   "metadata": {},
   "outputs": [
    {
     "data": {
      "text/plain": [
       "(11, 369, 19)"
      ]
     },
     "execution_count": 23,
     "metadata": {},
     "output_type": "execute_result"
    }
   ],
   "source": [
    "# table by timepoint\n",
    "meta_offspring_time = {k:df for k,df in meta_offspring.groupby('timepoint')}\n",
    "# create tensor\n",
    "tensor_offspring = []\n",
    "for timepoint in sorted(meta_offspring_time.keys()):\n",
    "    table_tmp,meta_tmp = match(table_offspring,meta_offspring_time[timepoint])\n",
    "    meta_tmp.set_index('ID',inplace=True,drop=True)\n",
    "    table_tmp = table_tmp.T.sort_index().T\n",
    "    table_tmp.index = meta_tmp.index\n",
    "    table_tmp.sort_index(inplace=True)\n",
    "    meta_tmp.sort_index(inplace=True)\n",
    "    meta_offspring_time[timepoint] = meta_tmp\n",
    "    tensor_offspring.append(table_tmp)\n",
    "TOff = np.dstack(tensor_offspring).T\n",
    "TOff.shape\n"
   ]
  },
  {
   "cell_type": "code",
   "execution_count": 24,
   "metadata": {},
   "outputs": [
    {
     "data": {
      "text/plain": [
       "0"
      ]
     },
     "execution_count": 24,
     "metadata": {},
     "output_type": "execute_result"
    }
   ],
   "source": [
    "from collections import Counter\n",
    "TOff_f = np.concatenate([TOff[i,:,:].T for i in range(TOff.shape[0])],axis=0)\n",
    "\n",
    "Counter(TOff_f.sum(axis=0))[0]"
   ]
  },
  {
   "cell_type": "code",
   "execution_count": 25,
   "metadata": {},
   "outputs": [],
   "source": [
    "# flatten, transform, and reshape \n",
    "TOff_rclr = np.concatenate([TOff[i,:,:].T for i in range(TOff.shape[0])],axis=0)\n",
    "TOff_rclr = rclr().fit_transform(TOff_rclr)\n"
   ]
  },
  {
   "cell_type": "code",
   "execution_count": 26,
   "metadata": {},
   "outputs": [],
   "source": [
    "\n",
    "TOff_rclr = np.dstack([TOff_rclr[(i-1)*TOff.shape[-1]:(i)*TOff.shape[-1]] for i in range(1,TOff.shape[0]+1)])\n",
    "#TOff_rclr = TOff.copy()\n",
    "TOff_rclr[np.isnan(TOff_rclr)] = 0 \n",
    "E = np.zeros(TOff_rclr.shape)\n",
    "E[abs(TOff_rclr)>0] = 1\n"
   ]
  },
  {
   "cell_type": "code",
   "execution_count": 27,
   "metadata": {},
   "outputs": [
    {
     "name": "stdout",
     "output_type": "stream",
     "text": [
      "CPU times: user 3.92 s, sys: 58 ms, total: 3.97 s\n",
      "Wall time: 2.19 s\n"
     ]
    }
   ],
   "source": [
    "%%time\n",
    "# Compostional-TenAls\n",
    "L1,L2,L3,s,dist = TenAls(TOff_rclr,E)\n"
   ]
  },
  {
   "cell_type": "code",
   "execution_count": 28,
   "metadata": {},
   "outputs": [],
   "source": [
    "# make df\n",
    "offtime_ordin = pd.DataFrame(L3,sorted(meta_offspring_time.keys()),columns=['PC1','PC2'])\n",
    "offfeature_ordin = pd.DataFrame(L2,table_offspring.columns,columns=['PC1','PC2'])\n",
    "offsample_ordin = pd.DataFrame(L1,table_tmp.index,columns=['PC1','PC2'])\n",
    "\n"
   ]
  },
  {
   "cell_type": "code",
   "execution_count": 29,
   "metadata": {},
   "outputs": [
    {
     "data": {
      "image/png": "[encoded data removed]",
      "text/plain": [
       "<Figure size 360x360 with 1 Axes>"
      ]
     },
     "metadata": {},
     "output_type": "display_data"
    }
   ],
   "source": [
    "fig,ax = plt.subplots(1,1,figsize=(5,5))\n",
    "\n",
    "\n",
    "_ = plot_pcoa('PC2', 'PC1', offsample_ordin, meta_tmp, ax, 'treated')\n",
    "\n",
    "plt.legend()\n",
    "plt.show()\n"
   ]
  },
  {
   "cell_type": "code",
   "execution_count": 13,
   "metadata": {},
   "outputs": [
    {
     "data": {
      "image/png": "[encoded data removed]",
      "text/plain": [
       "<Figure size 576x720 with 3 Axes>"
      ]
     },
     "metadata": {},
     "output_type": "display_data"
    }
   ],
   "source": [
    "fig,(ax1,ax) = plt.subplots(2,1,figsize=(8,10), facecolor='white')\n",
    "\n",
    "## loadings ##\n",
    "L2df = pd.DataFrame(L2).sort_values(0,ascending=False).reset_index(drop=True)\n",
    "\n",
    "colormap_ = {L2df.index[0]:'#1f78b4',\n",
    "            L2df.index[-1]:'#e41a1c'}\n",
    "L2df_bar = L2df.copy()\n",
    "L2df_bar.loc[list(set(L2df_bar.index) - set(colormap_.keys()))]=0\n",
    "for ind_ in L2df_bar.index:\n",
    "    if ind_ not in colormap_.keys():\n",
    "        colormap_[ind_]='#3f4244'  \n",
    "L2df_bar[0].plot(kind='bar',color=[colormap_[x] for x in L2df_bar.index], \n",
    "             width=14,ax=ax1)\n",
    "L2df[0].plot(kind='area',color='black',stacked=False, \n",
    "             ax=ax1, fontsize=8)\n",
    "ax1.set_xticks([])\n",
    "ax1.set_ylabel('PC1 (Loadings)',fontsize=15)\n",
    "ax1.axhline(0,c='black',lw=1,ls='-')\n",
    "ax1.set_xlim(min(L2df.index),max(L2df.index))\n",
    "ax1.grid()\n",
    "\n",
    "## biplot ##\n",
    "\n",
    "#Call the function. Use only the 2 PCs.\n",
    "sc = ax.scatter(L1[:,1],L1[:,0], \n",
    "            c = np.array(range(L1.shape[0])), \n",
    "            cmap='RdBu',s=60)\n",
    "#cbar = fig.colorbar(sc, ax=ax)\n",
    "fig.subplots_adjust(right=0.82)\n",
    "cbar_ax = fig.add_axes([0.85, 0.12, 0.025, 0.38])\n",
    "cbar = fig.colorbar(sc, cax=cbar_ax)\n",
    "cbar.ax.tick_params(labelsize=15) \n",
    "cbar.ax.set_title('Time')\n",
    "\n",
    "# biplot\n",
    "vectors = L2[[0,-1],:]\n",
    "for i,c_ in zip(range(vectors.shape[0]),['#1f78b4','#e41a1c']):\n",
    "    ax.arrow(np.mean(L1[:,1]), np.mean(L1[:,0]), \n",
    "              vectors[i,1]*.15, vectors[i,0]*.15,\n",
    "              head_width=0.0006, head_length=0.0006, \n",
    "             fc=c_, ec=c_, lw=5, alpha =.8)\n",
    "    \n",
    "    props = dict(boxstyle='round', facecolor='white', alpha=.99)\n",
    "    ax.text((np.mean(L1[:,1])+vectors[i,1]/1.8), \n",
    "             (np.mean(L1[:,0])+vectors[i,0]/1.8), \n",
    "             \"Microbe \"+str(i+1), color = 'k', \n",
    "             ha = 'center', va = 'center', bbox=props, fontsize=13)\n",
    "    \n",
    "ax.grid()\n",
    "ax.spines['right'].set_visible(False)\n",
    "ax.spines['top'].set_visible(False)\n",
    "ax.set_xticks([])\n",
    "ax.set_yticks([])\n",
    "ax.set_xlabel('PC1',fontsize=15)\n",
    "ax.set_ylabel('PC2',fontsize=15)\n",
    "\n",
    "plt.show()\n"
   ]
  },
  {
   "cell_type": "code",
   "execution_count": null,
   "metadata": {},
   "outputs": [],
   "source": []
  },
  {
   "cell_type": "code",
   "execution_count": null,
   "metadata": {},
   "outputs": [],
   "source": []
  },
  {
   "cell_type": "code",
   "execution_count": null,
   "metadata": {},
   "outputs": [],
   "source": []
  },
  {
   "cell_type": "code",
   "execution_count": null,
   "metadata": {},
   "outputs": [],
   "source": []
  },
  {
   "cell_type": "code",
   "execution_count": null,
   "metadata": {},
   "outputs": [],
   "source": []
  },
  {
   "cell_type": "code",
   "execution_count": null,
   "metadata": {},
   "outputs": [],
   "source": []
  },
  {
   "cell_type": "code",
   "execution_count": null,
   "metadata": {},
   "outputs": [],
   "source": []
  },
  {
   "cell_type": "code",
   "execution_count": null,
   "metadata": {},
   "outputs": [],
   "source": []
  },
  {
   "cell_type": "code",
   "execution_count": null,
   "metadata": {},
   "outputs": [],
   "source": []
  },
  {
   "cell_type": "code",
   "execution_count": null,
   "metadata": {},
   "outputs": [],
   "source": []
  },
  {
   "cell_type": "code",
   "execution_count": null,
   "metadata": {},
   "outputs": [],
   "source": []
  },
  {
   "cell_type": "code",
   "execution_count": 134,
   "metadata": {},
   "outputs": [
    {
     "data": {
      "text/plain": [
       "(209, 1421)"
      ]
     },
     "execution_count": 134,
     "metadata": {},
     "output_type": "execute_result"
    }
   ],
   "source": [
    "TOff.reshape(-1, TOff.shape[-1]).shape"
   ]
  },
  {
   "cell_type": "code",
   "execution_count": 135,
   "metadata": {},
   "outputs": [
    {
     "data": {
      "text/plain": [
       "(19, 1421, 11)"
      ]
     },
     "execution_count": 135,
     "metadata": {},
     "output_type": "execute_result"
    }
   ],
   "source": [
    "TOff.shape"
   ]
  },
  {
   "cell_type": "code",
   "execution_count": null,
   "metadata": {},
   "outputs": [],
   "source": []
  },
  {
   "cell_type": "code",
   "execution_count": 121,
   "metadata": {},
   "outputs": [
    {
     "data": {
      "text/plain": [
       "(209, 1421)"
      ]
     },
     "execution_count": 121,
     "metadata": {},
     "output_type": "execute_result"
    }
   ],
   "source": [
    "TOff.reshape(-1, TOff.shape[1]).shape\n"
   ]
  },
  {
   "cell_type": "code",
   "execution_count": 117,
   "metadata": {},
   "outputs": [
    {
     "data": {
      "text/plain": [
       "11.0"
      ]
     },
     "execution_count": 117,
     "metadata": {},
     "output_type": "execute_result"
    }
   ],
   "source": [
    "table.sum(axis=0).min()"
   ]
  },
  {
   "cell_type": "code",
   "execution_count": null,
   "metadata": {},
   "outputs": [],
   "source": []
  },
  {
   "cell_type": "code",
   "execution_count": null,
   "metadata": {},
   "outputs": [],
   "source": []
  },
  {
   "cell_type": "code",
   "execution_count": null,
   "metadata": {},
   "outputs": [],
   "source": []
  },
  {
   "cell_type": "code",
   "execution_count": null,
   "metadata": {},
   "outputs": [],
   "source": []
  },
  {
   "cell_type": "code",
   "execution_count": null,
   "metadata": {},
   "outputs": [],
   "source": []
  },
  {
   "cell_type": "code",
   "execution_count": null,
   "metadata": {},
   "outputs": [],
   "source": []
  },
  {
   "cell_type": "code",
   "execution_count": null,
   "metadata": {},
   "outputs": [],
   "source": []
  },
  {
   "cell_type": "code",
   "execution_count": null,
   "metadata": {},
   "outputs": [],
   "source": []
  },
  {
   "cell_type": "code",
   "execution_count": null,
   "metadata": {},
   "outputs": [],
   "source": []
  },
  {
   "cell_type": "code",
   "execution_count": null,
   "metadata": {},
   "outputs": [],
   "source": []
  },
  {
   "cell_type": "code",
   "execution_count": null,
   "metadata": {},
   "outputs": [],
   "source": []
  },
  {
   "cell_type": "code",
   "execution_count": null,
   "metadata": {},
   "outputs": [],
   "source": []
  },
  {
   "cell_type": "code",
   "execution_count": null,
   "metadata": {},
   "outputs": [],
   "source": []
  },
  {
   "cell_type": "code",
   "execution_count": null,
   "metadata": {},
   "outputs": [],
   "source": []
  },
  {
   "cell_type": "code",
   "execution_count": null,
   "metadata": {},
   "outputs": [],
   "source": []
  },
  {
   "cell_type": "code",
   "execution_count": null,
   "metadata": {},
   "outputs": [],
   "source": []
  },
  {
   "cell_type": "code",
   "execution_count": null,
   "metadata": {},
   "outputs": [],
   "source": []
  }
 ],
 "metadata": {
  "kernelspec": {
   "display_name": "Python 3",
   "language": "python",
   "name": "python3"
  },
  "language_info": {
   "codemirror_mode": {
    "name": "ipython",
    "version": 3
   },
   "file_extension": ".py",
   "mimetype": "text/x-python",
   "name": "python",
   "nbconvert_exporter": "python",
   "pygments_lexer": "ipython3",
   "version": "3.6.6"
  }
 },
 "nbformat": 4,
 "nbformat_minor": 2
}
