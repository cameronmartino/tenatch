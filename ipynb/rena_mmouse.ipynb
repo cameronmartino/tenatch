{
 "cells": [
  {
   "cell_type": "code",
   "execution_count": 2,
   "metadata": {},
   "outputs": [],
   "source": [
    "import numpy as np\n",
    "import pandas as pd\n",
    "from biom import load_table\n",
    "from gneiss.util import match\n",
    "from tenatch.tensor_factorization import TenAls\n",
    "from tenatch.utils import table_to_tensor,tensor_rclr\n",
    "from skbio import OrdinationResults, stats\n",
    "from deicode.optspace import OptSpace\n",
    "from deicode.preprocessing import rclr\n",
    "from IPython.core.display import HTML\n",
    "pd.options.mode.chained_assignment = None  # default='warn'\n",
    "\n",
    "\n",
    "#plotting\n",
    "import seaborn as sns\n",
    "import matplotlib.pyplot as plt\n",
    "import matplotlib.colors as colors\n",
    "import matplotlib.gridspec as gridspec\n",
    "from matplotlib import ticker\n",
    "plt.style.use('ggplot')\n",
    "sns.set_style('whitegrid')\n",
    "plt.rcParams['xtick.labelsize']=20\n",
    "plt.rcParams['ytick.labelsize']=20\n",
    "%matplotlib inline "
   ]
  },
  {
   "cell_type": "code",
   "execution_count": 3,
   "metadata": {},
   "outputs": [
    {
     "data": {
      "text/html": [
       "<div>\n",
       "<style scoped>\n",
       "    .dataframe tbody tr th:only-of-type {\n",
       "        vertical-align: middle;\n",
       "    }\n",
       "\n",
       "    .dataframe tbody tr th {\n",
       "        vertical-align: top;\n",
       "    }\n",
       "\n",
       "    .dataframe thead th {\n",
       "        text-align: right;\n",
       "    }\n",
       "</style>\n",
       "<table border=\"1\" class=\"dataframe\">\n",
       "  <thead>\n",
       "    <tr style=\"text-align: right;\">\n",
       "      <th></th>\n",
       "      <th>sOTU0</th>\n",
       "      <th>sOTU1</th>\n",
       "      <th>sOTU2</th>\n",
       "      <th>sOTU3</th>\n",
       "      <th>sOTU4</th>\n",
       "      <th>sOTU5</th>\n",
       "      <th>sOTU6</th>\n",
       "      <th>sOTU7</th>\n",
       "      <th>sOTU8</th>\n",
       "      <th>sOTU9</th>\n",
       "      <th>...</th>\n",
       "      <th>sOTU4690</th>\n",
       "      <th>sOTU4691</th>\n",
       "      <th>sOTU4692</th>\n",
       "      <th>sOTU4693</th>\n",
       "      <th>sOTU4694</th>\n",
       "      <th>sOTU4695</th>\n",
       "      <th>sOTU4696</th>\n",
       "      <th>sOTU4697</th>\n",
       "      <th>sOTU4698</th>\n",
       "      <th>sOTU4699</th>\n",
       "    </tr>\n",
       "  </thead>\n",
       "  <tbody>\n",
       "    <tr>\n",
       "      <th>10537.p5f2.25days.saline</th>\n",
       "      <td>0.0</td>\n",
       "      <td>0.0</td>\n",
       "      <td>0.0</td>\n",
       "      <td>0.0</td>\n",
       "      <td>0.0</td>\n",
       "      <td>0.0</td>\n",
       "      <td>0.0</td>\n",
       "      <td>0.0</td>\n",
       "      <td>0.0</td>\n",
       "      <td>0.0</td>\n",
       "      <td>...</td>\n",
       "      <td>0.0</td>\n",
       "      <td>0.0</td>\n",
       "      <td>1549.0</td>\n",
       "      <td>0.0</td>\n",
       "      <td>0.0</td>\n",
       "      <td>0.0</td>\n",
       "      <td>0.0</td>\n",
       "      <td>0.0</td>\n",
       "      <td>0.0</td>\n",
       "      <td>0.0</td>\n",
       "    </tr>\n",
       "    <tr>\n",
       "      <th>10537.p5d2.23days.saline</th>\n",
       "      <td>0.0</td>\n",
       "      <td>0.0</td>\n",
       "      <td>0.0</td>\n",
       "      <td>0.0</td>\n",
       "      <td>0.0</td>\n",
       "      <td>0.0</td>\n",
       "      <td>0.0</td>\n",
       "      <td>0.0</td>\n",
       "      <td>0.0</td>\n",
       "      <td>0.0</td>\n",
       "      <td>...</td>\n",
       "      <td>0.0</td>\n",
       "      <td>0.0</td>\n",
       "      <td>1648.0</td>\n",
       "      <td>0.0</td>\n",
       "      <td>0.0</td>\n",
       "      <td>0.0</td>\n",
       "      <td>0.0</td>\n",
       "      <td>0.0</td>\n",
       "      <td>0.0</td>\n",
       "      <td>0.0</td>\n",
       "    </tr>\n",
       "    <tr>\n",
       "      <th>10537.p7b12.37days.saline</th>\n",
       "      <td>0.0</td>\n",
       "      <td>0.0</td>\n",
       "      <td>0.0</td>\n",
       "      <td>0.0</td>\n",
       "      <td>0.0</td>\n",
       "      <td>0.0</td>\n",
       "      <td>0.0</td>\n",
       "      <td>0.0</td>\n",
       "      <td>0.0</td>\n",
       "      <td>0.0</td>\n",
       "      <td>...</td>\n",
       "      <td>0.0</td>\n",
       "      <td>0.0</td>\n",
       "      <td>643.0</td>\n",
       "      <td>0.0</td>\n",
       "      <td>0.0</td>\n",
       "      <td>0.0</td>\n",
       "      <td>0.0</td>\n",
       "      <td>0.0</td>\n",
       "      <td>0.0</td>\n",
       "      <td>0.0</td>\n",
       "    </tr>\n",
       "    <tr>\n",
       "      <th>10537.p5b9.21days.saline</th>\n",
       "      <td>0.0</td>\n",
       "      <td>0.0</td>\n",
       "      <td>0.0</td>\n",
       "      <td>0.0</td>\n",
       "      <td>0.0</td>\n",
       "      <td>0.0</td>\n",
       "      <td>0.0</td>\n",
       "      <td>0.0</td>\n",
       "      <td>0.0</td>\n",
       "      <td>0.0</td>\n",
       "      <td>...</td>\n",
       "      <td>0.0</td>\n",
       "      <td>0.0</td>\n",
       "      <td>3647.0</td>\n",
       "      <td>0.0</td>\n",
       "      <td>0.0</td>\n",
       "      <td>0.0</td>\n",
       "      <td>0.0</td>\n",
       "      <td>0.0</td>\n",
       "      <td>0.0</td>\n",
       "      <td>0.0</td>\n",
       "    </tr>\n",
       "    <tr>\n",
       "      <th>10537.p3a3.253.mar6</th>\n",
       "      <td>0.0</td>\n",
       "      <td>0.0</td>\n",
       "      <td>0.0</td>\n",
       "      <td>0.0</td>\n",
       "      <td>0.0</td>\n",
       "      <td>0.0</td>\n",
       "      <td>0.0</td>\n",
       "      <td>0.0</td>\n",
       "      <td>0.0</td>\n",
       "      <td>0.0</td>\n",
       "      <td>...</td>\n",
       "      <td>0.0</td>\n",
       "      <td>0.0</td>\n",
       "      <td>1334.0</td>\n",
       "      <td>0.0</td>\n",
       "      <td>0.0</td>\n",
       "      <td>0.0</td>\n",
       "      <td>0.0</td>\n",
       "      <td>0.0</td>\n",
       "      <td>0.0</td>\n",
       "      <td>0.0</td>\n",
       "    </tr>\n",
       "  </tbody>\n",
       "</table>\n",
       "<p>5 rows × 4700 columns</p>\n",
       "</div>"
      ],
      "text/plain": [
       "                           sOTU0  sOTU1  sOTU2  sOTU3  sOTU4  sOTU5  sOTU6  \\\n",
       "10537.p5f2.25days.saline     0.0    0.0    0.0    0.0    0.0    0.0    0.0   \n",
       "10537.p5d2.23days.saline     0.0    0.0    0.0    0.0    0.0    0.0    0.0   \n",
       "10537.p7b12.37days.saline    0.0    0.0    0.0    0.0    0.0    0.0    0.0   \n",
       "10537.p5b9.21days.saline     0.0    0.0    0.0    0.0    0.0    0.0    0.0   \n",
       "10537.p3a3.253.mar6          0.0    0.0    0.0    0.0    0.0    0.0    0.0   \n",
       "\n",
       "                           sOTU7  sOTU8  sOTU9    ...     sOTU4690  sOTU4691  \\\n",
       "10537.p5f2.25days.saline     0.0    0.0    0.0    ...          0.0       0.0   \n",
       "10537.p5d2.23days.saline     0.0    0.0    0.0    ...          0.0       0.0   \n",
       "10537.p7b12.37days.saline    0.0    0.0    0.0    ...          0.0       0.0   \n",
       "10537.p5b9.21days.saline     0.0    0.0    0.0    ...          0.0       0.0   \n",
       "10537.p3a3.253.mar6          0.0    0.0    0.0    ...          0.0       0.0   \n",
       "\n",
       "                           sOTU4692  sOTU4693  sOTU4694  sOTU4695  sOTU4696  \\\n",
       "10537.p5f2.25days.saline     1549.0       0.0       0.0       0.0       0.0   \n",
       "10537.p5d2.23days.saline     1648.0       0.0       0.0       0.0       0.0   \n",
       "10537.p7b12.37days.saline     643.0       0.0       0.0       0.0       0.0   \n",
       "10537.p5b9.21days.saline     3647.0       0.0       0.0       0.0       0.0   \n",
       "10537.p3a3.253.mar6          1334.0       0.0       0.0       0.0       0.0   \n",
       "\n",
       "                           sOTU4697  sOTU4698  sOTU4699  \n",
       "10537.p5f2.25days.saline        0.0       0.0       0.0  \n",
       "10537.p5d2.23days.saline        0.0       0.0       0.0  \n",
       "10537.p7b12.37days.saline       0.0       0.0       0.0  \n",
       "10537.p5b9.21days.saline        0.0       0.0       0.0  \n",
       "10537.p3a3.253.mar6             0.0       0.0       0.0  \n",
       "\n",
       "[5 rows x 4700 columns]"
      ]
     },
     "execution_count": 3,
     "metadata": {},
     "output_type": "execute_result"
    }
   ],
   "source": [
    "# import the biom table\n",
    "table = load_table('data/micemeth/reference-hit.biom')\n",
    "# import taxa\n",
    "taxa = pd.read_table('data/micemeth/taxonomy.tsv', index_col=0)\n",
    "# import the metadata\n",
    "meta = pd.read_table('data/micemeth/10537_20180929-125415.txt', index_col=0)\n",
    "\n",
    "# filter sample to min depth\n",
    "def sample_filter(val, id_, md): return sum(val) > 0\n",
    "def observation_filter(val, id_, md): return sum(val) > 0\n",
    "table = table.filter(sample_filter, axis='sample')\n",
    "table = table.filter(observation_filter, axis='observation')\n",
    "\n",
    "# ensure index matches\n",
    "table,taxa = match(table.to_dataframe(),taxa)\n",
    "table,meta = match(table.T,meta)\n",
    "\n",
    "# rename table otus\n",
    "table.columns=['sOTU'+str(i) for i in range(len(table.columns))]\n",
    "taxa['sequence'] = taxa.index\n",
    "taxa.index = table.columns\n",
    "\n",
    "#view table\n",
    "table.head(5)\n"
   ]
  },
  {
   "cell_type": "code",
   "execution_count": 4,
   "metadata": {
    "scrolled": true
   },
   "outputs": [],
   "source": [
    "# offspring\n",
    "meta_offspring = meta[meta.treatment_group.isin(['meth.offspring','saline.offspring'])]\n",
    "meta_offspring['ID'] =[x.split('.')[-1]+'_'+x.split('.')[1][3:] for x in meta_offspring.index]\n",
    "# get table and filter features \n",
    "table_offspring,meta_offspring = match(table,meta_offspring)\n"
   ]
  },
  {
   "cell_type": "code",
   "execution_count": 5,
   "metadata": {},
   "outputs": [
    {
     "name": "stderr",
     "output_type": "stream",
     "text": [
      "/Users/cameronmartino/bin/tenatch/tenatch/utils.py:23: FutureWarning: 'get_duplicates' is deprecated and will be removed in a future release. You can use idx[idx.duplicated()].unique() instead\n",
      "  if len(meta_tmp.index.get_duplicates()):\n"
     ]
    },
    {
     "name": "stdout",
     "output_type": "stream",
     "text": [
      "CPU times: user 1min 36s, sys: 968 ms, total: 1min 37s\n",
      "Wall time: 34 s\n"
     ]
    }
   ],
   "source": [
    "%%time\n",
    "# create tensor for rclr \n",
    "T, mt, colm, indm = table_to_tensor(table_offspring.copy(),\n",
    "                                    meta_offspring.copy(),\n",
    "                                    'ID','timepoint')\n",
    "# rclr transform (flat)\n",
    "T_rclr = tensor_rclr(T)\n",
    "TF = TenAls(rank=3).fit(T_rclr)\n",
    "# make dataframes from loadings\n",
    "cols = ['PC'+str(i+1) for i in range(TF.time_loading.shape[1])]\n",
    "time_loading = pd.DataFrame(TF.time_loading,sorted(mt.keys()),columns=cols)\n",
    "feature_loading = pd.DataFrame(TF.feature_loading,colm,columns=cols)\n",
    "sample_loading = pd.DataFrame(TF.sample_loading,indm,columns=cols)\n",
    "# trajectory\n",
    "traj = np.dot(TF.sample_loading,TF.time_loading.T)\n",
    "traj = pd.DataFrame(traj,sample_loading.index,time_loading.index)\n",
    "traj.columns.name = 'time'\n",
    "traj = pd.DataFrame(traj.stack()).reset_index()\n",
    "traj.columns = list(traj.columns[:-1])+['trajectory']\n"
   ]
  },
  {
   "cell_type": "markdown",
   "metadata": {},
   "source": [
    "### Qiime2: visualize trajectory in time"
   ]
  },
  {
   "cell_type": "code",
   "execution_count": 48,
   "metadata": {},
   "outputs": [],
   "source": [
    "trajplot = traj.copy()\n",
    "trajplot['Treatment'] = [id_.split('_')[0] for id_ in trajplot['ID']]\n",
    "trajplot.columns = ['mouse_id','day','trajectory','treatment']\n",
    "trajplot.index = trajplot.mouse_id + trajplot.day.astype(str)\n",
    "trajplot.day = [int(t.split(' ')[0]) for t in trajplot.day]\n",
    "trajplot['day'] -= min(trajplot.day)\n",
    "trajplot.index.name = 'sampleid'\n",
    "trajplot.to_csv('data/micemeth/offspring_trajectory.tsv',sep='\\t')\n"
   ]
  },
  {
   "cell_type": "code",
   "execution_count": 49,
   "metadata": {},
   "outputs": [
    {
     "name": "stdout",
     "output_type": "stream",
     "text": [
      "\u001b[32mSaved Visualization to: data/micemeth/offspring_trajectory.qzv\u001b[0m\r\n"
     ]
    }
   ],
   "source": [
    "!qiime longitudinal volatility \\\n",
    "    --m-metadata-file data/micemeth/offspring_trajectory.tsv \\\n",
    "    --p-state-column day\\\n",
    "    --p-individual-id-column mouse_id\\\n",
    "    --p-default-group-column treatment\\\n",
    "    --p-default-metric trajectory\\\n",
    "    --o-visualization data/micemeth/offspring_trajectory.qzv"
   ]
  },
  {
   "cell_type": "markdown",
   "metadata": {},
   "source": [
    "###  Qiime2:  visualize biplots"
   ]
  },
  {
   "cell_type": "code",
   "execution_count": 37,
   "metadata": {},
   "outputs": [
    {
     "data": {
      "text/plain": [
       "'data/micemeth/rena_offspring_sample_ordination.txt'"
      ]
     },
     "execution_count": 37,
     "metadata": {},
     "output_type": "execute_result"
    }
   ],
   "source": [
    "# sample ordination file \n",
    "taxa_off = taxa.set_index('sequence').reindex(list(feature_loading.index))\n",
    "sample_loading.index.name = None\n",
    "feature_loading.index.name = None\n",
    "taxa_off.index.name = 'Feature ID'\n",
    "feature_loading.index = taxa_off.index \n",
    "eigvals = pd.Series(TF.eigenvalues,\n",
    "                        index=sample_loading.columns)\n",
    "proportion_explained = pd.Series(TF.explained_variance_ratio,\n",
    "                                 index=sample_loading.columns)\n",
    "# save ordination results \n",
    "ord_res = OrdinationResults(\n",
    "        'PCoA', \n",
    "        'Principal Coordinate Analysis',\n",
    "        eigvals.copy(),\n",
    "        sample_loading.copy(),\n",
    "        features=feature_loading.copy(),\n",
    "        proportion_explained=proportion_explained.copy())\n",
    "\n",
    "# write files to output folder\n",
    "mt['21 days'].to_csv('data/micemeth/offspring_single_time_map.tsv',sep='\\t')\n",
    "taxa_off.to_csv('data/micemeth/offspring_taxonomy.tsv',sep='\\t')\n",
    "ord_res.write('data/micemeth/rena_offspring_sample_ordination.txt')\n"
   ]
  },
  {
   "cell_type": "code",
   "execution_count": 38,
   "metadata": {},
   "outputs": [
    {
     "name": "stdout",
     "output_type": "stream",
     "text": [
      "\u001b[32mImported data/micemeth/rena_offspring_sample_ordination.txt as OrdinationDirectoryFormat to data/micemeth/rena_offspring_sample_ordination.qza\u001b[0m\r\n"
     ]
    }
   ],
   "source": [
    "!qiime tools import \\\n",
    "  --input-path data/micemeth/rena_offspring_sample_ordination.txt \\\n",
    "  --type 'PCoAResults % Properties(\"biplot\")' \\\n",
    "  --output-path data/micemeth/rena_offspring_sample_ordination.qza"
   ]
  },
  {
   "cell_type": "code",
   "execution_count": 39,
   "metadata": {},
   "outputs": [
    {
     "name": "stdout",
     "output_type": "stream",
     "text": [
      "\u001b[32mImported data/micemeth/offspring_taxonomy.tsv as TSVTaxonomyDirectoryFormat to data/micemeth/offspring_taxonomy.qza\u001b[0m\r\n"
     ]
    }
   ],
   "source": [
    "!qiime tools import \\\n",
    "  --input-path data/micemeth/offspring_taxonomy.tsv \\\n",
    "  --type 'FeatureData[Taxonomy]' \\\n",
    "  --output-path data/micemeth/offspring_taxonomy.qza"
   ]
  },
  {
   "cell_type": "code",
   "execution_count": 40,
   "metadata": {},
   "outputs": [
    {
     "name": "stdout",
     "output_type": "stream",
     "text": [
      "\u001b[32mSaved Visualization to: data/micemeth/offspring_biplot.qzv\u001b[0m\r\n"
     ]
    }
   ],
   "source": [
    "!qiime emperor biplot \\\n",
    "    --i-biplot data/micemeth/rena_offspring_sample_ordination.qza \\\n",
    "    --m-sample-metadata-file data/micemeth/offspring_single_time_map.tsv \\\n",
    "    --m-feature-metadata-file  data/micemeth/offspring_taxonomy.qza \\\n",
    "    --o-visualization data/micemeth/offspring_biplot.qzv \\\n",
    "    --p-number-of-features 20"
   ]
  },
  {
   "cell_type": "markdown",
   "metadata": {},
   "source": [
    "## vis in notebook"
   ]
  },
  {
   "cell_type": "code",
   "execution_count": 6,
   "metadata": {},
   "outputs": [
    {
     "data": {
      "image/png": "[encoded data removed]",
      "text/plain": [
       "<Figure size 1080x360 with 1 Axes>"
      ]
     },
     "metadata": {
      "needs_background": "light"
     },
     "output_type": "display_data"
    }
   ],
   "source": [
    "fig,axn = plt.subplots(1,1,figsize=(15,5))\n",
    "\n",
    "traj['Treatment'] = [id_.split('_')[0] for id_ in traj['ID']]\n",
    "axn = sns.pointplot(x=\"time\", y=\"trajectory\", hue=\"Treatment\", \n",
    "              data=traj,ci=95,palette='Set1')\n",
    "#axn.set_ylabel('$\\\\frac{Meth\\,\\,Enriched\\,\\,Microbe}{Core\\,Microbe}$',fontsize=30)\n",
    "#axn.set_xlabel('Day(s)',fontsize=22)\n",
    "axn.legend(loc=2, prop={'size': 22})\n",
    "#fig.savefig('figures/mmouse/lr_core.png',dpi=300, \n",
    "#            bbox_inches='tight',facecolor='white')\n",
    "plt.show()\n",
    "\n"
   ]
  },
  {
   "cell_type": "code",
   "execution_count": null,
   "metadata": {},
   "outputs": [],
   "source": [
    "def plot_pcoa(x, y, samples, md, ax, factor_, colors_map=['#1f78b4','#e31a1c']):\n",
    "    \"\"\" \n",
    "    Parameters\n",
    "    ----------\n",
    "    samples : pd.DataFrame\n",
    "        Contains PCoA coordinates\n",
    "    md : pd.Dataframe\n",
    "        Metadata object\n",
    "    ax : matplotlib.Axes\n",
    "        Contains matplotlib axes object\n",
    "    \"\"\"\n",
    "    classes=np.sort(list(set(md[factor_].values)))\n",
    "    cmap_out={}\n",
    "    for sub_class,color_ in zip(classes,colors_map):\n",
    "        idx = md[factor_] == sub_class        \n",
    "        ax.scatter(samples.loc[idx, x],\n",
    "           samples.loc[idx, y], \n",
    "           label=sub_class,\n",
    "           facecolors=color_,\n",
    "           edgecolors=color_,\n",
    "           alpha=.8,linewidth=3)        \n",
    "        cmap_out[sub_class]=color_\n",
    "    ax.grid()\n",
    "    ax.spines['right'].set_visible(False)\n",
    "    ax.spines['top'].set_visible(False)\n",
    "    ax.set_xticks([])\n",
    "    ax.set_yticks([])\n",
    "    ax.set_xlabel('PC1',fontsize=15)\n",
    "    ax.set_ylabel('PC2',fontsize=15)\n",
    "    \n",
    "    return ax\n",
    "\n",
    "class MidpointNormalize(colors.Normalize):\n",
    "    def __init__(self, vmin=None, vmax=None, midpoint=None, clip=False):\n",
    "        self.midpoint = midpoint\n",
    "        colors.Normalize.__init__(self, vmin, vmax, clip)\n",
    "\n",
    "    def __call__(self, value, clip=None):\n",
    "        x, y = [self.vmin, self.midpoint, self.vmax], [0, 0.5, 1]\n",
    "        return np.ma.masked_array(np.interp(value, x, y))\n"
   ]
  },
  {
   "cell_type": "code",
   "execution_count": 10,
   "metadata": {},
   "outputs": [
    {
     "data": {
      "image/png": "[encoded data removed]",
      "text/plain": [
       "<Figure size 360x360 with 1 Axes>"
      ]
     },
     "metadata": {},
     "output_type": "display_data"
    }
   ],
   "source": [
    "fig,ax = plt.subplots(1,1,figsize=(5,5))\n",
    "_ = plot_pcoa('PC1', 'PC2', sample_loading, mt['21 days'], ax, 'treated')\n",
    "ax.set_xlabel('PC1 ('+str(TF.explained_variance_ratio[0]*100)[:4]+'%)',fontsize=15)\n",
    "ax.set_ylabel('PC2 ('+str(TF.explained_variance_ratio[1]*100)[:4]+'%)',fontsize=15)\n",
    "\n",
    "plt.legend()\n",
    "plt.show()\n"
   ]
  },
  {
   "cell_type": "markdown",
   "metadata": {},
   "source": [
    "### log-ratio in time"
   ]
  },
  {
   "cell_type": "code",
   "execution_count": 50,
   "metadata": {},
   "outputs": [],
   "source": [
    "numerator = feature_loading.sort_values('PC1').index[-1]\n",
    "# get abudnant microbe across all time\n",
    "lrmetaoff = meta[meta.treatment_group.isin(['meth.offspring','saline.offspring'])]\n",
    "tabledenom,_ = match(table,lrmetaoff)\n",
    "denom = tabledenom.mean(axis=0).sort_values(ascending=False).index[10]\n",
    "denom_opp = feature_loading.sort_values('PC1').index[2]\n"
   ]
  },
  {
   "cell_type": "code",
   "execution_count": 51,
   "metadata": {},
   "outputs": [
    {
     "name": "stderr",
     "output_type": "stream",
     "text": [
      "/anaconda3/envs/qiime2-2019.1/lib/python3.6/site-packages/ipykernel_launcher.py:13: FutureWarning: convert_objects is deprecated.  To re-infer data dtypes for object columns, use DataFrame.infer_objects()\n",
      "For all other conversions use the data-type specific converters pd.to_datetime, pd.to_timedelta and pd.to_numeric.\n",
      "  del sys.path[0]\n"
     ]
    }
   ],
   "source": [
    "# offspring\n",
    "lrmetaoff_time = {t_:match(table,tdf_) for t_,tdf_ in lrmetaoff.groupby('timepoint')}\n",
    "lrmetaoff_timedf = []\n",
    "for t_,tdfs_ in lrmetaoff_time.items():\n",
    "    ratiodf = pd.DataFrame([np.array(np.log(tdfs_[0].loc[:,numerator]+1) - np.log(tdfs_[0].loc[:,denom]+1)).flatten(),\n",
    "                            np.array(np.log(tdfs_[0].loc[:,numerator]+1) - np.log(tdfs_[0].loc[:,denom_opp]+1)).flatten(),\n",
    "                            np.array(tdfs_[1]['treatment_group'].values)]).T\n",
    "    ratiodf.index = tdfs_[1].index\n",
    "    ratiodf.columns = ['Ratio_Core','Ratio_Opposite','Treatment']\n",
    "    ratiodf['time'] = t_.split(' ')[0]\n",
    "    lrmetaoff_timedf.append(ratiodf)\n",
    "lrmetaoff_timedf = pd.concat(lrmetaoff_timedf,axis=0)\n",
    "lrmetaoff_timedf = lrmetaoff_timedf.convert_objects(convert_numeric=True)\n",
    "maptrat = {'meth.offspring':'Offspring of Meth Treated Mother', 'saline.offspring':'Offspring of Saline Treated Mother'}\n",
    "lrmetaoff_timedf['Treatment'] = [maptrat[x] for x in lrmetaoff_timedf.Treatment]\n",
    " "
   ]
  },
  {
   "cell_type": "code",
   "execution_count": 54,
   "metadata": {},
   "outputs": [
    {
     "data": {
      "image/png": "[encoded data removed]",
      "text/plain": [
       "<Figure size 1080x360 with 1 Axes>"
      ]
     },
     "metadata": {
      "needs_background": "light"
     },
     "output_type": "display_data"
    }
   ],
   "source": [
    "fig,axn = plt.subplots(1,1,figsize=(15,5))\n",
    "axn = sns.pointplot(x=\"time\", y=\"Ratio_Core\", hue=\"Treatment\", \n",
    "              data=lrmetaoff_timedf,ci=95)\n",
    "axn.set_ylabel('log($\\\\frac{Meth\\,\\,Enriched\\,\\,Microbe}{Core\\,Microbe}$)',fontsize=30)\n",
    "axn.set_xlabel('Day(s)',fontsize=22)\n",
    "axn.legend(loc=2, prop={'size': 25})\n",
    "fig.savefig('figures/mmouse/lr_core.png',dpi=300, \n",
    "            bbox_inches='tight',facecolor='white')\n",
    "plt.show()\n",
    "\n"
   ]
  },
  {
   "cell_type": "code",
   "execution_count": null,
   "metadata": {},
   "outputs": [],
   "source": []
  },
  {
   "cell_type": "code",
   "execution_count": null,
   "metadata": {},
   "outputs": [],
   "source": []
  },
  {
   "cell_type": "code",
   "execution_count": null,
   "metadata": {},
   "outputs": [],
   "source": []
  },
  {
   "cell_type": "code",
   "execution_count": null,
   "metadata": {},
   "outputs": [],
   "source": []
  },
  {
   "cell_type": "code",
   "execution_count": null,
   "metadata": {},
   "outputs": [],
   "source": []
  },
  {
   "cell_type": "code",
   "execution_count": null,
   "metadata": {},
   "outputs": [],
   "source": []
  }
 ],
 "metadata": {
  "kernelspec": {
   "display_name": "Python 3",
   "language": "python",
   "name": "python3"
  },
  "language_info": {
   "codemirror_mode": {
    "name": "ipython",
    "version": 3
   },
   "file_extension": ".py",
   "mimetype": "text/x-python",
   "name": "python",
   "nbconvert_exporter": "python",
   "pygments_lexer": "ipython3",
   "version": "3.6.5"
  }
 },
 "nbformat": 4,
 "nbformat_minor": 2
}
